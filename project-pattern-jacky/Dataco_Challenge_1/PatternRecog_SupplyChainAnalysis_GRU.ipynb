{
  "cells": [
    {
      "cell_type": "markdown",
      "metadata": {
        "id": "zdsF0rNIgAqh"
      },
      "source": [
        "# **Data Analysis for Supply Chain**"
      ]
    },
    {
      "cell_type": "code",
      "execution_count": 25,
      "metadata": {
        "id": "3SYe6U8Xfot9",
        "metadata": {}
      },
      "outputs": [],
      "source": [
        "import pandas as pd\n",
        "import numpy as np\n",
        "import seaborn as sns\n",
        "import matplotlib.pyplot as plt\n",
        "import statsmodels.api as sm\n",
        "import datetime as dt\n",
        "from sklearn.discriminant_analysis import LinearDiscriminantAnalysis,QuadraticDiscriminantAnalysis\n",
        "from sklearn.metrics import confusion_matrix\n",
        "from sklearn.model_selection import train_test_split\n",
        "from sklearn.naive_bayes import GaussianNB\n",
        "from sklearn import preprocessing\n",
        "from sklearn import model_selection\n",
        "from sklearn.tree import DecisionTreeRegressor\n",
        "from sklearn.metrics import roc_auc_score,r2_score,mean_absolute_error,mean_squared_error,accuracy_score,classification_report,confusion_matrix\n",
        "from sklearn.model_selection import train_test_split,cross_val_score, cross_val_predict\n",
        "from sklearn import svm,metrics,tree,preprocessing,linear_model\n",
        "from sklearn.preprocessing import MinMaxScaler,StandardScaler\n",
        "from sklearn.neighbors import KNeighborsClassifier\n",
        "from sklearn.linear_model import LinearRegression,LogisticRegression\n",
        "from sklearn.ensemble import RandomForestRegressor,RandomForestClassifier, GradientBoostingRegressor\n",
        "from sklearn.metrics import accuracy_score,mean_squared_error,recall_score,confusion_matrix,f1_score,roc_curve, auc\n",
        "from plotly.offline import iplot, init_notebook_mode\n",
        "import pickle\n",
        "import warnings\n",
        "warnings.filterwarnings(\"ignore\")\n",
        "import datetime as dt\n",
        "from datetime import datetime\n",
        "import plotly.express as px"
      ]
    },
    {
      "cell_type": "code",
      "execution_count": 26,
      "metadata": {},
      "outputs": [],
      "source": [
        "import pandas as pd\n",
        "import numpy as np\n",
        "import matplotlib.pyplot as plt\n",
        "\n",
        "from sklearn import preprocessing\n",
        "import warnings\n",
        "warnings.filterwarnings(\"ignore\")\n",
        "import torch\n",
        "import torch.nn as nn\n",
        "import torch.nn.functional as F\n",
        "from torch.utils.data import Dataset\n",
        "from torch.utils.data import DataLoader\n",
        "from torchinfo import summary\n",
        "from tqdm.notebook import tqdm"
      ]
    },
    {
      "cell_type": "code",
      "execution_count": 27,
      "metadata": {
        "id": "K8k7EmpGnqRj",
        "metadata": {}
      },
      "outputs": [],
      "source": [
        "path = \"../../../dataco-smart-supply-chain-for-big-data-analysis\"\n",
        "df=pd.read_csv(path+\"/DataCoSupplyChainDataset.csv\", encoding='latin1')\n"
      ]
    },
    {
      "cell_type": "code",
      "execution_count": 28,
      "metadata": {
        "colab": {
          "base_uri": "https://localhost:8080/"
        },
        "id": "89rMg856vkO-",
        "metadata": {},
        "outputId": "ca30ceed-6443-4bd5-db8d-91361b735b4a"
      },
      "outputs": [],
      "source": [
        "df=df.drop(['Customer Email','Product Status','Customer Password','Customer Street','Customer Fname','Customer Lname',\n",
        "           'Product Description','Product Image','Order Zipcode','Customer Zipcode'],axis=1)\n"
      ]
    },
    {
      "cell_type": "code",
      "execution_count": 29,
      "metadata": {
        "id": "UL_C2Qz4JkFu",
        "metadata": {}
      },
      "outputs": [],
      "source": [
        "df.columns = [col.lower().replace(' ', '_') for col in df.columns]\n",
        "df.rename(columns=lambda x: x.replace(\"(\", \"\").replace(\")\", \"\"), inplace=True)"
      ]
    },
    {
      "cell_type": "code",
      "execution_count": 30,
      "metadata": {},
      "outputs": [],
      "source": [
        "df = df[(df['product_card_id'] == 365)] \n",
        "# Splitting the 'order_date_dateorders' column into separate date and time columns\n",
        "df[['date', 'time']] = df['order_date_dateorders'].str.split(' ', expand=True)\n",
        "# Converting the 'date' column to datetime with the format '%m/%d/%Y'\n",
        "df['order_date'] = pd.to_datetime(df['date'], format='%m/%d/%Y')\n",
        "# Sorting the DataFrame by 'order_date' to ensure chronological order\n",
        "df = df.sort_values(by='order_date')\n",
        "# Resetting the index to start from 1\n",
        "df.reset_index(drop=True, inplace=True)\n",
        "\n",
        "\n"
      ]
    },
    {
      "cell_type": "code",
      "execution_count": 31,
      "metadata": {},
      "outputs": [
        {
          "data": {
            "text/html": [
              "<div>\n",
              "<style scoped>\n",
              "    .dataframe tbody tr th:only-of-type {\n",
              "        vertical-align: middle;\n",
              "    }\n",
              "\n",
              "    .dataframe tbody tr th {\n",
              "        vertical-align: top;\n",
              "    }\n",
              "\n",
              "    .dataframe thead th {\n",
              "        text-align: right;\n",
              "    }\n",
              "</style>\n",
              "<table border=\"1\" class=\"dataframe\">\n",
              "  <thead>\n",
              "    <tr style=\"text-align: right;\">\n",
              "      <th></th>\n",
              "      <th>type</th>\n",
              "      <th>days_for_shipping_real</th>\n",
              "      <th>days_for_shipment_scheduled</th>\n",
              "      <th>benefit_per_order</th>\n",
              "      <th>sales_per_customer</th>\n",
              "      <th>delivery_status</th>\n",
              "      <th>late_delivery_risk</th>\n",
              "      <th>category_id</th>\n",
              "      <th>category_name</th>\n",
              "      <th>customer_city</th>\n",
              "      <th>...</th>\n",
              "      <th>order_status</th>\n",
              "      <th>product_card_id</th>\n",
              "      <th>product_category_id</th>\n",
              "      <th>product_name</th>\n",
              "      <th>product_price</th>\n",
              "      <th>shipping_date_dateorders</th>\n",
              "      <th>shipping_mode</th>\n",
              "      <th>date</th>\n",
              "      <th>time</th>\n",
              "      <th>order_date</th>\n",
              "    </tr>\n",
              "  </thead>\n",
              "  <tbody>\n",
              "    <tr>\n",
              "      <th>0</th>\n",
              "      <td>DEBIT</td>\n",
              "      <td>6</td>\n",
              "      <td>4</td>\n",
              "      <td>5.690000</td>\n",
              "      <td>50.389999</td>\n",
              "      <td>Late delivery</td>\n",
              "      <td>1</td>\n",
              "      <td>17</td>\n",
              "      <td>Cleats</td>\n",
              "      <td>Caguas</td>\n",
              "      <td>...</td>\n",
              "      <td>COMPLETE</td>\n",
              "      <td>365</td>\n",
              "      <td>17</td>\n",
              "      <td>Perfect Fitness Perfect Rip Deck</td>\n",
              "      <td>59.990002</td>\n",
              "      <td>1/7/2015 15:24</td>\n",
              "      <td>Standard Class</td>\n",
              "      <td>1/1/2015</td>\n",
              "      <td>15:24</td>\n",
              "      <td>2015-01-01</td>\n",
              "    </tr>\n",
              "    <tr>\n",
              "      <th>1</th>\n",
              "      <td>PAYMENT</td>\n",
              "      <td>5</td>\n",
              "      <td>4</td>\n",
              "      <td>14.280000</td>\n",
              "      <td>50.990002</td>\n",
              "      <td>Late delivery</td>\n",
              "      <td>1</td>\n",
              "      <td>17</td>\n",
              "      <td>Cleats</td>\n",
              "      <td>Caguas</td>\n",
              "      <td>...</td>\n",
              "      <td>PENDING_PAYMENT</td>\n",
              "      <td>365</td>\n",
              "      <td>17</td>\n",
              "      <td>Perfect Fitness Perfect Rip Deck</td>\n",
              "      <td>59.990002</td>\n",
              "      <td>1/6/2015 20:19</td>\n",
              "      <td>Standard Class</td>\n",
              "      <td>1/1/2015</td>\n",
              "      <td>20:19</td>\n",
              "      <td>2015-01-01</td>\n",
              "    </tr>\n",
              "    <tr>\n",
              "      <th>2</th>\n",
              "      <td>DEBIT</td>\n",
              "      <td>2</td>\n",
              "      <td>4</td>\n",
              "      <td>43.119999</td>\n",
              "      <td>118.779999</td>\n",
              "      <td>Advance shipping</td>\n",
              "      <td>0</td>\n",
              "      <td>17</td>\n",
              "      <td>Cleats</td>\n",
              "      <td>Jersey City</td>\n",
              "      <td>...</td>\n",
              "      <td>ON_HOLD</td>\n",
              "      <td>365</td>\n",
              "      <td>17</td>\n",
              "      <td>Perfect Fitness Perfect Rip Deck</td>\n",
              "      <td>59.990002</td>\n",
              "      <td>1/3/2015 22:46</td>\n",
              "      <td>Standard Class</td>\n",
              "      <td>1/1/2015</td>\n",
              "      <td>22:46</td>\n",
              "      <td>2015-01-01</td>\n",
              "    </tr>\n",
              "    <tr>\n",
              "      <th>3</th>\n",
              "      <td>CASH</td>\n",
              "      <td>3</td>\n",
              "      <td>4</td>\n",
              "      <td>-102.029999</td>\n",
              "      <td>152.970001</td>\n",
              "      <td>Advance shipping</td>\n",
              "      <td>0</td>\n",
              "      <td>17</td>\n",
              "      <td>Cleats</td>\n",
              "      <td>Del Rio</td>\n",
              "      <td>...</td>\n",
              "      <td>CLOSED</td>\n",
              "      <td>365</td>\n",
              "      <td>17</td>\n",
              "      <td>Perfect Fitness Perfect Rip Deck</td>\n",
              "      <td>59.990002</td>\n",
              "      <td>1/4/2015 19:37</td>\n",
              "      <td>Standard Class</td>\n",
              "      <td>1/1/2015</td>\n",
              "      <td>19:37</td>\n",
              "      <td>2015-01-01</td>\n",
              "    </tr>\n",
              "    <tr>\n",
              "      <th>4</th>\n",
              "      <td>CASH</td>\n",
              "      <td>3</td>\n",
              "      <td>2</td>\n",
              "      <td>13.940000</td>\n",
              "      <td>49.790001</td>\n",
              "      <td>Late delivery</td>\n",
              "      <td>1</td>\n",
              "      <td>17</td>\n",
              "      <td>Cleats</td>\n",
              "      <td>Cordova</td>\n",
              "      <td>...</td>\n",
              "      <td>CLOSED</td>\n",
              "      <td>365</td>\n",
              "      <td>17</td>\n",
              "      <td>Perfect Fitness Perfect Rip Deck</td>\n",
              "      <td>59.990002</td>\n",
              "      <td>1/4/2015 12:36</td>\n",
              "      <td>Second Class</td>\n",
              "      <td>1/1/2015</td>\n",
              "      <td>12:36</td>\n",
              "      <td>2015-01-01</td>\n",
              "    </tr>\n",
              "    <tr>\n",
              "      <th>...</th>\n",
              "      <td>...</td>\n",
              "      <td>...</td>\n",
              "      <td>...</td>\n",
              "      <td>...</td>\n",
              "      <td>...</td>\n",
              "      <td>...</td>\n",
              "      <td>...</td>\n",
              "      <td>...</td>\n",
              "      <td>...</td>\n",
              "      <td>...</td>\n",
              "      <td>...</td>\n",
              "      <td>...</td>\n",
              "      <td>...</td>\n",
              "      <td>...</td>\n",
              "      <td>...</td>\n",
              "      <td>...</td>\n",
              "      <td>...</td>\n",
              "      <td>...</td>\n",
              "      <td>...</td>\n",
              "      <td>...</td>\n",
              "      <td>...</td>\n",
              "    </tr>\n",
              "    <tr>\n",
              "      <th>24510</th>\n",
              "      <td>DEBIT</td>\n",
              "      <td>4</td>\n",
              "      <td>4</td>\n",
              "      <td>45.389999</td>\n",
              "      <td>174.570007</td>\n",
              "      <td>Shipping on time</td>\n",
              "      <td>0</td>\n",
              "      <td>17</td>\n",
              "      <td>Cleats</td>\n",
              "      <td>Winter Park</td>\n",
              "      <td>...</td>\n",
              "      <td>COMPLETE</td>\n",
              "      <td>365</td>\n",
              "      <td>17</td>\n",
              "      <td>Perfect Fitness Perfect Rip Deck</td>\n",
              "      <td>59.990002</td>\n",
              "      <td>10/6/2017 10:40</td>\n",
              "      <td>Standard Class</td>\n",
              "      <td>10/2/2017</td>\n",
              "      <td>10:40</td>\n",
              "      <td>2017-10-02</td>\n",
              "    </tr>\n",
              "    <tr>\n",
              "      <th>24511</th>\n",
              "      <td>DEBIT</td>\n",
              "      <td>3</td>\n",
              "      <td>4</td>\n",
              "      <td>-0.820000</td>\n",
              "      <td>58.790001</td>\n",
              "      <td>Advance shipping</td>\n",
              "      <td>0</td>\n",
              "      <td>17</td>\n",
              "      <td>Cleats</td>\n",
              "      <td>Caguas</td>\n",
              "      <td>...</td>\n",
              "      <td>ON_HOLD</td>\n",
              "      <td>365</td>\n",
              "      <td>17</td>\n",
              "      <td>Perfect Fitness Perfect Rip Deck</td>\n",
              "      <td>59.990002</td>\n",
              "      <td>10/5/2017 12:04</td>\n",
              "      <td>Standard Class</td>\n",
              "      <td>10/2/2017</td>\n",
              "      <td>12:04</td>\n",
              "      <td>2017-10-02</td>\n",
              "    </tr>\n",
              "    <tr>\n",
              "      <th>24512</th>\n",
              "      <td>TRANSFER</td>\n",
              "      <td>3</td>\n",
              "      <td>2</td>\n",
              "      <td>26.490000</td>\n",
              "      <td>57.590000</td>\n",
              "      <td>Late delivery</td>\n",
              "      <td>1</td>\n",
              "      <td>17</td>\n",
              "      <td>Cleats</td>\n",
              "      <td>Aurora</td>\n",
              "      <td>...</td>\n",
              "      <td>PROCESSING</td>\n",
              "      <td>365</td>\n",
              "      <td>17</td>\n",
              "      <td>Perfect Fitness Perfect Rip Deck</td>\n",
              "      <td>59.990002</td>\n",
              "      <td>10/5/2017 5:04</td>\n",
              "      <td>Second Class</td>\n",
              "      <td>10/2/2017</td>\n",
              "      <td>5:04</td>\n",
              "      <td>2017-10-02</td>\n",
              "    </tr>\n",
              "    <tr>\n",
              "      <th>24513</th>\n",
              "      <td>PAYMENT</td>\n",
              "      <td>2</td>\n",
              "      <td>2</td>\n",
              "      <td>-302.350006</td>\n",
              "      <td>215.960007</td>\n",
              "      <td>Shipping on time</td>\n",
              "      <td>0</td>\n",
              "      <td>17</td>\n",
              "      <td>Cleats</td>\n",
              "      <td>Brooklyn</td>\n",
              "      <td>...</td>\n",
              "      <td>PENDING_PAYMENT</td>\n",
              "      <td>365</td>\n",
              "      <td>17</td>\n",
              "      <td>Perfect Fitness Perfect Rip Deck</td>\n",
              "      <td>59.990002</td>\n",
              "      <td>10/4/2017 4:43</td>\n",
              "      <td>Second Class</td>\n",
              "      <td>10/2/2017</td>\n",
              "      <td>4:43</td>\n",
              "      <td>2017-10-02</td>\n",
              "    </tr>\n",
              "    <tr>\n",
              "      <th>24514</th>\n",
              "      <td>CASH</td>\n",
              "      <td>4</td>\n",
              "      <td>4</td>\n",
              "      <td>56.770000</td>\n",
              "      <td>218.360001</td>\n",
              "      <td>Shipping on time</td>\n",
              "      <td>0</td>\n",
              "      <td>17</td>\n",
              "      <td>Cleats</td>\n",
              "      <td>San Diego</td>\n",
              "      <td>...</td>\n",
              "      <td>CLOSED</td>\n",
              "      <td>365</td>\n",
              "      <td>17</td>\n",
              "      <td>Perfect Fitness Perfect Rip Deck</td>\n",
              "      <td>59.990002</td>\n",
              "      <td>10/6/2017 5:25</td>\n",
              "      <td>Standard Class</td>\n",
              "      <td>10/2/2017</td>\n",
              "      <td>5:25</td>\n",
              "      <td>2017-10-02</td>\n",
              "    </tr>\n",
              "  </tbody>\n",
              "</table>\n",
              "<p>24515 rows × 46 columns</p>\n",
              "</div>"
            ],
            "text/plain": [
              "           type  days_for_shipping_real  days_for_shipment_scheduled  \\\n",
              "0         DEBIT                       6                            4   \n",
              "1       PAYMENT                       5                            4   \n",
              "2         DEBIT                       2                            4   \n",
              "3          CASH                       3                            4   \n",
              "4          CASH                       3                            2   \n",
              "...         ...                     ...                          ...   \n",
              "24510     DEBIT                       4                            4   \n",
              "24511     DEBIT                       3                            4   \n",
              "24512  TRANSFER                       3                            2   \n",
              "24513   PAYMENT                       2                            2   \n",
              "24514      CASH                       4                            4   \n",
              "\n",
              "       benefit_per_order  sales_per_customer   delivery_status  \\\n",
              "0               5.690000           50.389999     Late delivery   \n",
              "1              14.280000           50.990002     Late delivery   \n",
              "2              43.119999          118.779999  Advance shipping   \n",
              "3            -102.029999          152.970001  Advance shipping   \n",
              "4              13.940000           49.790001     Late delivery   \n",
              "...                  ...                 ...               ...   \n",
              "24510          45.389999          174.570007  Shipping on time   \n",
              "24511          -0.820000           58.790001  Advance shipping   \n",
              "24512          26.490000           57.590000     Late delivery   \n",
              "24513        -302.350006          215.960007  Shipping on time   \n",
              "24514          56.770000          218.360001  Shipping on time   \n",
              "\n",
              "       late_delivery_risk  category_id category_name customer_city  ...  \\\n",
              "0                       1           17        Cleats        Caguas  ...   \n",
              "1                       1           17        Cleats        Caguas  ...   \n",
              "2                       0           17        Cleats   Jersey City  ...   \n",
              "3                       0           17        Cleats       Del Rio  ...   \n",
              "4                       1           17        Cleats       Cordova  ...   \n",
              "...                   ...          ...           ...           ...  ...   \n",
              "24510                   0           17        Cleats   Winter Park  ...   \n",
              "24511                   0           17        Cleats        Caguas  ...   \n",
              "24512                   1           17        Cleats        Aurora  ...   \n",
              "24513                   0           17        Cleats      Brooklyn  ...   \n",
              "24514                   0           17        Cleats     San Diego  ...   \n",
              "\n",
              "          order_status  product_card_id product_category_id  \\\n",
              "0             COMPLETE              365                  17   \n",
              "1      PENDING_PAYMENT              365                  17   \n",
              "2              ON_HOLD              365                  17   \n",
              "3               CLOSED              365                  17   \n",
              "4               CLOSED              365                  17   \n",
              "...                ...              ...                 ...   \n",
              "24510         COMPLETE              365                  17   \n",
              "24511          ON_HOLD              365                  17   \n",
              "24512       PROCESSING              365                  17   \n",
              "24513  PENDING_PAYMENT              365                  17   \n",
              "24514           CLOSED              365                  17   \n",
              "\n",
              "                           product_name  product_price  \\\n",
              "0      Perfect Fitness Perfect Rip Deck      59.990002   \n",
              "1      Perfect Fitness Perfect Rip Deck      59.990002   \n",
              "2      Perfect Fitness Perfect Rip Deck      59.990002   \n",
              "3      Perfect Fitness Perfect Rip Deck      59.990002   \n",
              "4      Perfect Fitness Perfect Rip Deck      59.990002   \n",
              "...                                 ...            ...   \n",
              "24510  Perfect Fitness Perfect Rip Deck      59.990002   \n",
              "24511  Perfect Fitness Perfect Rip Deck      59.990002   \n",
              "24512  Perfect Fitness Perfect Rip Deck      59.990002   \n",
              "24513  Perfect Fitness Perfect Rip Deck      59.990002   \n",
              "24514  Perfect Fitness Perfect Rip Deck      59.990002   \n",
              "\n",
              "      shipping_date_dateorders   shipping_mode       date   time order_date  \n",
              "0               1/7/2015 15:24  Standard Class   1/1/2015  15:24 2015-01-01  \n",
              "1               1/6/2015 20:19  Standard Class   1/1/2015  20:19 2015-01-01  \n",
              "2               1/3/2015 22:46  Standard Class   1/1/2015  22:46 2015-01-01  \n",
              "3               1/4/2015 19:37  Standard Class   1/1/2015  19:37 2015-01-01  \n",
              "4               1/4/2015 12:36    Second Class   1/1/2015  12:36 2015-01-01  \n",
              "...                        ...             ...        ...    ...        ...  \n",
              "24510          10/6/2017 10:40  Standard Class  10/2/2017  10:40 2017-10-02  \n",
              "24511          10/5/2017 12:04  Standard Class  10/2/2017  12:04 2017-10-02  \n",
              "24512           10/5/2017 5:04    Second Class  10/2/2017   5:04 2017-10-02  \n",
              "24513           10/4/2017 4:43    Second Class  10/2/2017   4:43 2017-10-02  \n",
              "24514           10/6/2017 5:25  Standard Class  10/2/2017   5:25 2017-10-02  \n",
              "\n",
              "[24515 rows x 46 columns]"
            ]
          },
          "execution_count": 31,
          "metadata": {},
          "output_type": "execute_result"
        }
      ],
      "source": [
        "df"
      ]
    },
    {
      "cell_type": "code",
      "execution_count": 32,
      "metadata": {},
      "outputs": [
        {
          "data": {
            "image/png": "[encoded data removed]",
            "text/plain": [
              "<Figure size 3000x600 with 1 Axes>"
            ]
          },
          "metadata": {},
          "output_type": "display_data"
        }
      ],
      "source": [
        "# dfx = df[(df['product_card_id'] == 365)] \n",
        "\n",
        "dfx = df.groupby('order_date')['order_item_quantity'].sum().reset_index()[1:-1]\n",
        "plt.figure(figsize=(30, 6))\n",
        "plt.plot(dfx['order_date'], dfx['order_item_quantity'], color='blue', marker='o', linestyle='-', label='Original Data')\n",
        "\n",
        "plt.title('Delivery Quantity by Agreed Delivery Week')\n",
        "plt.xlabel('Agreed Delivery Week')\n",
        "plt.ylabel('Total Delivery Quantity')\n",
        "plt.grid(True)\n",
        "plt.legend()  # Show legend\n",
        "plt.show()"
      ]
    },
    {
      "cell_type": "code",
      "execution_count": 33,
      "metadata": {
        "id": "bCkwMUJRYVkg",
        "metadata": {}
      },
      "outputs": [],
      "source": [
        "# ['type', 'days_for_shipping_real', 'days_for_shipment_scheduled',\n",
        "    #    'benefit_per_order', 'sales_per_customer', 'delivery_status',\n",
        "    #    'late_delivery_risk', 'category_id', 'category_name', 'customer_city',\n",
        "    #    'customer_country', 'customer_id', 'customer_segment', 'customer_state',\n",
        "    #    'department_id', 'department_name', 'latitude', 'longitude', 'market',\n",
        "    #    'order_city', 'order_country', 'order_customer_id',\n",
        "    #    'order_date_dateorders', 'order_id', 'order_item_cardprod_id',\n",
        "    #    'order_item_discount', 'order_item_discount_rate', 'order_item_id',\n",
        "    #    'order_item_product_price', 'order_item_profit_ratio',\n",
        "    #    'order_item_quantity', 'sales', 'order_item_total',\n",
        "    #    'order_profit_per_order', 'order_region', 'order_state', 'order_status',\n",
        "    #    'product_card_id', 'product_category_id', 'product_name',\n",
        "    #    'product_price', 'shipping_date_dateorders', 'shipping_mode',\n",
        "    #    'customer_full_name']\n",
        "\n",
        "# feature = ['order_date','order_item_quantity','days_for_shipment_scheduled','category_name','customer_city','customer_country','customer_segment','customer_state','department_name','market','product_name','product_price','shipping_mode']\n",
        "# feature = ['order_date','order_item_quantity','days_for_shipment_scheduled','category_name','customer_city','customer_country','customer_segment','customer_state','department_name','market','product_name','product_price','shipping_mode','order_item_discount','order_item_discount_rate','order_item_product_price','order_item_profit_ratio']\n",
        "feature = ['order_date','order_item_quantity','category_name','customer_city','customer_country','customer_segment','customer_state','department_name','market','product_name','product_price','shipping_mode','order_item_discount','order_item_discount_rate','order_item_product_price','order_item_profit_ratio']\n",
        "# feature = ['order_item_quantity','order_item_discount','order_item_discount_rate','order_item_product_price','order_item_profit_ratio','product_price']\n",
        "\n",
        "\n",
        "df = df[feature]"
      ]
    },
    {
      "cell_type": "code",
      "execution_count": 34,
      "metadata": {
        "metadata": {}
      },
      "outputs": [
        {
          "name": "stdout",
          "output_type": "stream",
          "text": [
            "Duplicated Rows:\n",
            "Empty DataFrame\n",
            "Columns: [order_date, order_item_quantity, category_name, customer_city, customer_country, customer_segment, customer_state, department_name, market, product_name, product_price, shipping_mode, order_item_discount, order_item_discount_rate, order_item_product_price, order_item_profit_ratio]\n",
            "Index: []\n"
          ]
        }
      ],
      "source": [
        "df = df.drop_duplicates()\n",
        "\n",
        "# Check for duplicated rows\n",
        "duplicated_rows = df.duplicated()\n",
        "# Filter the DataFrame to show duplicated rows\n",
        "duplicated_df = df[duplicated_rows]\n",
        "print(\"Duplicated Rows:\")\n",
        "print(duplicated_df)\n"
      ]
    },
    {
      "cell_type": "code",
      "execution_count": 35,
      "metadata": {
        "metadata": {}
      },
      "outputs": [
        {
          "data": {
            "text/plain": [
              "(24515, 621)"
            ]
          },
          "execution_count": 35,
          "metadata": {},
          "output_type": "execute_result"
        }
      ],
      "source": [
        "# object_columns = ['category_name','customer_city','customer_country','customer_segment','customer_state','department_name','market','product_name','shipping_mode']\n",
        "object_columns = df.select_dtypes(include=['object']).columns.tolist()\n",
        "for e in object_columns:\n",
        "    tmp = pd.get_dummies(df[e],drop_first=True)\n",
        "    df.drop([e],axis=1,inplace=True)\n",
        "    df = pd.concat([df,tmp],axis=1)\n",
        "df.shape"
      ]
    },
    {
      "cell_type": "code",
      "execution_count": 36,
      "metadata": {},
      "outputs": [],
      "source": [
        "\n",
        "\n",
        "train =  df[df['order_date'] <= '2017-01']\n",
        "train =  train[train['order_date'] > '2016-06']\n",
        "val =   df[ df['order_date'] <= '2016-06' ]\n",
        "test =  df[df['order_date'] > '2017-01']\n",
        "\n",
        "# df = df[df['order_date'] < '2017-10']"
      ]
    },
    {
      "cell_type": "code",
      "execution_count": 37,
      "metadata": {},
      "outputs": [],
      "source": [
        "imputerealfeature = ['order_item_discount','order_item_discount_rate','order_item_product_price','order_item_profit_ratio']\n",
        "\n",
        "for e in imputerealfeature:\n",
        "    # Calculate the mean of 'order_item_discount' in the train set\n",
        "    mean_train = train[e].mean()\n",
        "    # Create a new column in the test set with the mean value from the train set\n",
        "    test[e] = mean_train\n"
      ]
    },
    {
      "cell_type": "code",
      "execution_count": 38,
      "metadata": {},
      "outputs": [
        {
          "name": "stdout",
          "output_type": "stream",
          "text": [
            "x_train shape: (5230, 619)\n",
            "y_train shape: (5230, 1) \n",
            "\n",
            "x_val shape: (6588, 619)\n",
            "y_val shape: (6588, 1) \n",
            "\n",
            "x_test shape: (6588, 619)\n",
            "y_test shape: (6588, 1)\n"
          ]
        }
      ],
      "source": [
        "\n",
        "\n",
        "dfx_train=train .loc[:, train .columns !='order_item_quantity']\n",
        "y_train=train .loc[:, train .columns =='order_item_quantity']\n",
        "dfx_val=test .loc[:, val .columns !='order_item_quantity']\n",
        "y_val=test .loc[:, val .columns =='order_item_quantity']\n",
        "dfx_test=test .loc[:, test .columns !='order_item_quantity']\n",
        "y_test=test .loc[:, test .columns =='order_item_quantity']\n",
        "\n",
        "\n",
        "# # x_train, x_test,y_train,x_test = train_test_split(xorderitemquantity,yorderitemquantity,test_size = 0.3, random_state = 42)\n",
        "x_train = dfx_train.drop(['order_date'],axis=1)\n",
        "x_val = dfx_val.drop(['order_date'],axis=1)\n",
        "x_test = dfx_test.drop(['order_date'],axis=1)\n",
        "\n",
        "print('x_train shape:',x_train.shape)\n",
        "print('y_train shape:', y_train.shape, '\\n')\n",
        "print('x_val shape:',x_val.shape)\n",
        "print('y_val shape:', y_val.shape, '\\n')\n",
        "print('x_test shape:',x_test.shape)\n",
        "print('y_test shape:', y_test.shape)\n",
        "\n",
        "\n",
        "\n",
        "# x_train, x_test,y_train,y_test = train_test_split(xorderitemquantity,yorderitemquantity,test_size = 0.3, random_state = 42)"
      ]
    },
    {
      "cell_type": "code",
      "execution_count": 39,
      "metadata": {},
      "outputs": [
        {
          "data": {
            "text/html": [
              "<div>\n",
              "<style scoped>\n",
              "    .dataframe tbody tr th:only-of-type {\n",
              "        vertical-align: middle;\n",
              "    }\n",
              "\n",
              "    .dataframe tbody tr th {\n",
              "        vertical-align: top;\n",
              "    }\n",
              "\n",
              "    .dataframe thead th {\n",
              "        text-align: right;\n",
              "    }\n",
              "</style>\n",
              "<table border=\"1\" class=\"dataframe\">\n",
              "  <thead>\n",
              "    <tr style=\"text-align: right;\">\n",
              "      <th></th>\n",
              "      <th>product_price</th>\n",
              "      <th>order_item_discount</th>\n",
              "      <th>order_item_discount_rate</th>\n",
              "      <th>order_item_product_price</th>\n",
              "      <th>order_item_profit_ratio</th>\n",
              "      <th>Alameda</th>\n",
              "      <th>Albany</th>\n",
              "      <th>Albuquerque</th>\n",
              "      <th>Algonquin</th>\n",
              "      <th>Alhambra</th>\n",
              "      <th>...</th>\n",
              "      <th>WA</th>\n",
              "      <th>WI</th>\n",
              "      <th>WV</th>\n",
              "      <th>Europe</th>\n",
              "      <th>LATAM</th>\n",
              "      <th>Pacific Asia</th>\n",
              "      <th>USCA</th>\n",
              "      <th>Same Day</th>\n",
              "      <th>Second Class</th>\n",
              "      <th>Standard Class</th>\n",
              "    </tr>\n",
              "  </thead>\n",
              "  <tbody>\n",
              "    <tr>\n",
              "      <th>12697</th>\n",
              "      <td>59.990002</td>\n",
              "      <td>30.000000</td>\n",
              "      <td>0.25</td>\n",
              "      <td>59.990002</td>\n",
              "      <td>-0.01</td>\n",
              "      <td>0</td>\n",
              "      <td>0</td>\n",
              "      <td>0</td>\n",
              "      <td>0</td>\n",
              "      <td>0</td>\n",
              "      <td>...</td>\n",
              "      <td>0</td>\n",
              "      <td>0</td>\n",
              "      <td>0</td>\n",
              "      <td>0</td>\n",
              "      <td>0</td>\n",
              "      <td>0</td>\n",
              "      <td>1</td>\n",
              "      <td>0</td>\n",
              "      <td>0</td>\n",
              "      <td>1</td>\n",
              "    </tr>\n",
              "    <tr>\n",
              "      <th>12698</th>\n",
              "      <td>59.990002</td>\n",
              "      <td>18.000000</td>\n",
              "      <td>0.10</td>\n",
              "      <td>59.990002</td>\n",
              "      <td>-0.20</td>\n",
              "      <td>0</td>\n",
              "      <td>0</td>\n",
              "      <td>0</td>\n",
              "      <td>0</td>\n",
              "      <td>0</td>\n",
              "      <td>...</td>\n",
              "      <td>0</td>\n",
              "      <td>0</td>\n",
              "      <td>0</td>\n",
              "      <td>0</td>\n",
              "      <td>0</td>\n",
              "      <td>0</td>\n",
              "      <td>1</td>\n",
              "      <td>0</td>\n",
              "      <td>0</td>\n",
              "      <td>1</td>\n",
              "    </tr>\n",
              "    <tr>\n",
              "      <th>12699</th>\n",
              "      <td>59.990002</td>\n",
              "      <td>16.500000</td>\n",
              "      <td>0.06</td>\n",
              "      <td>59.990002</td>\n",
              "      <td>0.18</td>\n",
              "      <td>0</td>\n",
              "      <td>0</td>\n",
              "      <td>0</td>\n",
              "      <td>0</td>\n",
              "      <td>0</td>\n",
              "      <td>...</td>\n",
              "      <td>0</td>\n",
              "      <td>0</td>\n",
              "      <td>0</td>\n",
              "      <td>0</td>\n",
              "      <td>0</td>\n",
              "      <td>0</td>\n",
              "      <td>1</td>\n",
              "      <td>0</td>\n",
              "      <td>0</td>\n",
              "      <td>1</td>\n",
              "    </tr>\n",
              "    <tr>\n",
              "      <th>12700</th>\n",
              "      <td>59.990002</td>\n",
              "      <td>16.200001</td>\n",
              "      <td>0.09</td>\n",
              "      <td>59.990002</td>\n",
              "      <td>0.13</td>\n",
              "      <td>0</td>\n",
              "      <td>0</td>\n",
              "      <td>0</td>\n",
              "      <td>0</td>\n",
              "      <td>0</td>\n",
              "      <td>...</td>\n",
              "      <td>0</td>\n",
              "      <td>0</td>\n",
              "      <td>0</td>\n",
              "      <td>0</td>\n",
              "      <td>0</td>\n",
              "      <td>0</td>\n",
              "      <td>1</td>\n",
              "      <td>0</td>\n",
              "      <td>0</td>\n",
              "      <td>1</td>\n",
              "    </tr>\n",
              "    <tr>\n",
              "      <th>12701</th>\n",
              "      <td>59.990002</td>\n",
              "      <td>21.000000</td>\n",
              "      <td>0.07</td>\n",
              "      <td>59.990002</td>\n",
              "      <td>0.26</td>\n",
              "      <td>0</td>\n",
              "      <td>0</td>\n",
              "      <td>0</td>\n",
              "      <td>0</td>\n",
              "      <td>0</td>\n",
              "      <td>...</td>\n",
              "      <td>0</td>\n",
              "      <td>0</td>\n",
              "      <td>0</td>\n",
              "      <td>0</td>\n",
              "      <td>0</td>\n",
              "      <td>0</td>\n",
              "      <td>1</td>\n",
              "      <td>0</td>\n",
              "      <td>0</td>\n",
              "      <td>1</td>\n",
              "    </tr>\n",
              "    <tr>\n",
              "      <th>...</th>\n",
              "      <td>...</td>\n",
              "      <td>...</td>\n",
              "      <td>...</td>\n",
              "      <td>...</td>\n",
              "      <td>...</td>\n",
              "      <td>...</td>\n",
              "      <td>...</td>\n",
              "      <td>...</td>\n",
              "      <td>...</td>\n",
              "      <td>...</td>\n",
              "      <td>...</td>\n",
              "      <td>...</td>\n",
              "      <td>...</td>\n",
              "      <td>...</td>\n",
              "      <td>...</td>\n",
              "      <td>...</td>\n",
              "      <td>...</td>\n",
              "      <td>...</td>\n",
              "      <td>...</td>\n",
              "      <td>...</td>\n",
              "      <td>...</td>\n",
              "    </tr>\n",
              "    <tr>\n",
              "      <th>17922</th>\n",
              "      <td>59.990002</td>\n",
              "      <td>35.990002</td>\n",
              "      <td>0.12</td>\n",
              "      <td>59.990002</td>\n",
              "      <td>0.31</td>\n",
              "      <td>0</td>\n",
              "      <td>0</td>\n",
              "      <td>0</td>\n",
              "      <td>0</td>\n",
              "      <td>0</td>\n",
              "      <td>...</td>\n",
              "      <td>0</td>\n",
              "      <td>0</td>\n",
              "      <td>0</td>\n",
              "      <td>0</td>\n",
              "      <td>0</td>\n",
              "      <td>1</td>\n",
              "      <td>0</td>\n",
              "      <td>0</td>\n",
              "      <td>0</td>\n",
              "      <td>0</td>\n",
              "    </tr>\n",
              "    <tr>\n",
              "      <th>17923</th>\n",
              "      <td>59.990002</td>\n",
              "      <td>7.800000</td>\n",
              "      <td>0.13</td>\n",
              "      <td>59.990002</td>\n",
              "      <td>0.12</td>\n",
              "      <td>0</td>\n",
              "      <td>0</td>\n",
              "      <td>0</td>\n",
              "      <td>0</td>\n",
              "      <td>0</td>\n",
              "      <td>...</td>\n",
              "      <td>0</td>\n",
              "      <td>0</td>\n",
              "      <td>0</td>\n",
              "      <td>0</td>\n",
              "      <td>0</td>\n",
              "      <td>0</td>\n",
              "      <td>1</td>\n",
              "      <td>0</td>\n",
              "      <td>0</td>\n",
              "      <td>1</td>\n",
              "    </tr>\n",
              "    <tr>\n",
              "      <th>17924</th>\n",
              "      <td>59.990002</td>\n",
              "      <td>7.200000</td>\n",
              "      <td>0.12</td>\n",
              "      <td>59.990002</td>\n",
              "      <td>0.35</td>\n",
              "      <td>0</td>\n",
              "      <td>0</td>\n",
              "      <td>0</td>\n",
              "      <td>0</td>\n",
              "      <td>0</td>\n",
              "      <td>...</td>\n",
              "      <td>0</td>\n",
              "      <td>0</td>\n",
              "      <td>0</td>\n",
              "      <td>0</td>\n",
              "      <td>0</td>\n",
              "      <td>0</td>\n",
              "      <td>0</td>\n",
              "      <td>0</td>\n",
              "      <td>1</td>\n",
              "      <td>0</td>\n",
              "    </tr>\n",
              "    <tr>\n",
              "      <th>17925</th>\n",
              "      <td>59.990002</td>\n",
              "      <td>3.600000</td>\n",
              "      <td>0.02</td>\n",
              "      <td>59.990002</td>\n",
              "      <td>0.47</td>\n",
              "      <td>0</td>\n",
              "      <td>0</td>\n",
              "      <td>0</td>\n",
              "      <td>0</td>\n",
              "      <td>0</td>\n",
              "      <td>...</td>\n",
              "      <td>0</td>\n",
              "      <td>0</td>\n",
              "      <td>0</td>\n",
              "      <td>0</td>\n",
              "      <td>0</td>\n",
              "      <td>0</td>\n",
              "      <td>1</td>\n",
              "      <td>0</td>\n",
              "      <td>0</td>\n",
              "      <td>1</td>\n",
              "    </tr>\n",
              "    <tr>\n",
              "      <th>17926</th>\n",
              "      <td>59.990002</td>\n",
              "      <td>21.600000</td>\n",
              "      <td>0.09</td>\n",
              "      <td>59.990002</td>\n",
              "      <td>0.28</td>\n",
              "      <td>0</td>\n",
              "      <td>0</td>\n",
              "      <td>0</td>\n",
              "      <td>0</td>\n",
              "      <td>0</td>\n",
              "      <td>...</td>\n",
              "      <td>0</td>\n",
              "      <td>0</td>\n",
              "      <td>0</td>\n",
              "      <td>1</td>\n",
              "      <td>0</td>\n",
              "      <td>0</td>\n",
              "      <td>0</td>\n",
              "      <td>0</td>\n",
              "      <td>0</td>\n",
              "      <td>1</td>\n",
              "    </tr>\n",
              "  </tbody>\n",
              "</table>\n",
              "<p>5230 rows × 619 columns</p>\n",
              "</div>"
            ],
            "text/plain": [
              "       product_price  order_item_discount  order_item_discount_rate  \\\n",
              "12697      59.990002            30.000000                      0.25   \n",
              "12698      59.990002            18.000000                      0.10   \n",
              "12699      59.990002            16.500000                      0.06   \n",
              "12700      59.990002            16.200001                      0.09   \n",
              "12701      59.990002            21.000000                      0.07   \n",
              "...              ...                  ...                       ...   \n",
              "17922      59.990002            35.990002                      0.12   \n",
              "17923      59.990002             7.800000                      0.13   \n",
              "17924      59.990002             7.200000                      0.12   \n",
              "17925      59.990002             3.600000                      0.02   \n",
              "17926      59.990002            21.600000                      0.09   \n",
              "\n",
              "       order_item_product_price  order_item_profit_ratio  Alameda  Albany  \\\n",
              "12697                 59.990002                    -0.01        0       0   \n",
              "12698                 59.990002                    -0.20        0       0   \n",
              "12699                 59.990002                     0.18        0       0   \n",
              "12700                 59.990002                     0.13        0       0   \n",
              "12701                 59.990002                     0.26        0       0   \n",
              "...                         ...                      ...      ...     ...   \n",
              "17922                 59.990002                     0.31        0       0   \n",
              "17923                 59.990002                     0.12        0       0   \n",
              "17924                 59.990002                     0.35        0       0   \n",
              "17925                 59.990002                     0.47        0       0   \n",
              "17926                 59.990002                     0.28        0       0   \n",
              "\n",
              "       Albuquerque  Algonquin  Alhambra  ...  WA  WI  WV  Europe  LATAM  \\\n",
              "12697            0          0         0  ...   0   0   0       0      0   \n",
              "12698            0          0         0  ...   0   0   0       0      0   \n",
              "12699            0          0         0  ...   0   0   0       0      0   \n",
              "12700            0          0         0  ...   0   0   0       0      0   \n",
              "12701            0          0         0  ...   0   0   0       0      0   \n",
              "...            ...        ...       ...  ...  ..  ..  ..     ...    ...   \n",
              "17922            0          0         0  ...   0   0   0       0      0   \n",
              "17923            0          0         0  ...   0   0   0       0      0   \n",
              "17924            0          0         0  ...   0   0   0       0      0   \n",
              "17925            0          0         0  ...   0   0   0       0      0   \n",
              "17926            0          0         0  ...   0   0   0       1      0   \n",
              "\n",
              "       Pacific Asia  USCA  Same Day  Second Class  Standard Class  \n",
              "12697             0     1         0             0               1  \n",
              "12698             0     1         0             0               1  \n",
              "12699             0     1         0             0               1  \n",
              "12700             0     1         0             0               1  \n",
              "12701             0     1         0             0               1  \n",
              "...             ...   ...       ...           ...             ...  \n",
              "17922             1     0         0             0               0  \n",
              "17923             0     1         0             0               1  \n",
              "17924             0     0         0             1               0  \n",
              "17925             0     1         0             0               1  \n",
              "17926             0     0         0             0               1  \n",
              "\n",
              "[5230 rows x 619 columns]"
            ]
          },
          "execution_count": 39,
          "metadata": {},
          "output_type": "execute_result"
        }
      ],
      "source": [
        "x_train"
      ]
    },
    {
      "cell_type": "code",
      "execution_count": 40,
      "metadata": {},
      "outputs": [
        {
          "data": {
            "text/html": [
              "<div>\n",
              "<style scoped>\n",
              "    .dataframe tbody tr th:only-of-type {\n",
              "        vertical-align: middle;\n",
              "    }\n",
              "\n",
              "    .dataframe tbody tr th {\n",
              "        vertical-align: top;\n",
              "    }\n",
              "\n",
              "    .dataframe thead th {\n",
              "        text-align: right;\n",
              "    }\n",
              "</style>\n",
              "<table border=\"1\" class=\"dataframe\">\n",
              "  <thead>\n",
              "    <tr style=\"text-align: right;\">\n",
              "      <th></th>\n",
              "      <th>order_item_quantity</th>\n",
              "    </tr>\n",
              "  </thead>\n",
              "  <tbody>\n",
              "    <tr>\n",
              "      <th>12697</th>\n",
              "      <td>2</td>\n",
              "    </tr>\n",
              "    <tr>\n",
              "      <th>12698</th>\n",
              "      <td>3</td>\n",
              "    </tr>\n",
              "    <tr>\n",
              "      <th>12699</th>\n",
              "      <td>5</td>\n",
              "    </tr>\n",
              "    <tr>\n",
              "      <th>12700</th>\n",
              "      <td>3</td>\n",
              "    </tr>\n",
              "    <tr>\n",
              "      <th>12701</th>\n",
              "      <td>5</td>\n",
              "    </tr>\n",
              "    <tr>\n",
              "      <th>...</th>\n",
              "      <td>...</td>\n",
              "    </tr>\n",
              "    <tr>\n",
              "      <th>17922</th>\n",
              "      <td>5</td>\n",
              "    </tr>\n",
              "    <tr>\n",
              "      <th>17923</th>\n",
              "      <td>1</td>\n",
              "    </tr>\n",
              "    <tr>\n",
              "      <th>17924</th>\n",
              "      <td>1</td>\n",
              "    </tr>\n",
              "    <tr>\n",
              "      <th>17925</th>\n",
              "      <td>3</td>\n",
              "    </tr>\n",
              "    <tr>\n",
              "      <th>17926</th>\n",
              "      <td>4</td>\n",
              "    </tr>\n",
              "  </tbody>\n",
              "</table>\n",
              "<p>5230 rows × 1 columns</p>\n",
              "</div>"
            ],
            "text/plain": [
              "       order_item_quantity\n",
              "12697                    2\n",
              "12698                    3\n",
              "12699                    5\n",
              "12700                    3\n",
              "12701                    5\n",
              "...                    ...\n",
              "17922                    5\n",
              "17923                    1\n",
              "17924                    1\n",
              "17925                    3\n",
              "17926                    4\n",
              "\n",
              "[5230 rows x 1 columns]"
            ]
          },
          "execution_count": 40,
          "metadata": {},
          "output_type": "execute_result"
        }
      ],
      "source": [
        "y_train"
      ]
    },
    {
      "cell_type": "code",
      "execution_count": 41,
      "metadata": {},
      "outputs": [],
      "source": [
        "class RainfallDatasetFF(Dataset):\n",
        "    def __init__(self, x, y, normalizer):\n",
        "        self.x = x.astype(np.float32)\n",
        "        self.y = y.astype(np.float32)\n",
        "        self.normalizer = normalizer\n",
        "        print(self.x.shape)\n",
        "        print(self.y.shape)\n",
        "\n",
        "    def __getitem__(self, index):\n",
        "        x = self.x[index] # Retrieve data\n",
        "        x = self.normalizer.transform(x.reshape(1, -1)) # Normalize\n",
        "        y = self.y[index]\n",
        "        return x, y\n",
        "\n",
        "    def __len__(self):\n",
        "        return self.x.shape[0]\n",
        "    \n",
        "def normalizer_std(X):\n",
        "    scaler = preprocessing.StandardScaler().fit(X)\n",
        "    return scaler\n",
        "\n",
        "def normalizer_minmax(X):\n",
        "    scaler = preprocessing.MinMaxScaler().fit(X)\n",
        "    return scaler"
      ]
    },
    {
      "cell_type": "code",
      "execution_count": 42,
      "metadata": {},
      "outputs": [],
      "source": [
        "class FeedForwardNN(nn.Module):\n",
        "    def __init__(self, hidden_size=200):\n",
        "        super(FeedForwardNN, self).__init__()\n",
        "        self.ff1 = nn.Linear(619, hidden_size)\n",
        "        self.do1 = nn.Dropout(p=0.3)\n",
        "        self.ff2 = nn.Linear(hidden_size, hidden_size)\n",
        "        self.do2 = nn.Dropout(p=0.3)\n",
        "        self.ff3 = nn.Linear(hidden_size, hidden_size)\n",
        "        self.do3 = nn.Dropout(p=0.3)\n",
        "        self.out = nn.Linear(hidden_size, 1)\n",
        "\n",
        "\n",
        "    def forward(self, x):\n",
        "        hd1 = F.relu(self.ff1(x))\n",
        "        x2 = F.relu(self.do1(hd1))\n",
        "        hd2 = F.relu(self.ff2(x2))\n",
        "        x3 = F.relu(self.do2(hd2))\n",
        "        hd3 = F.relu(self.ff3(x3))\n",
        "        y = F.relu(self.do3(hd3))\n",
        "        y = self.out(y)\n",
        "        return y.reshape(-1, 1)"
      ]
    },
    {
      "cell_type": "code",
      "execution_count": 43,
      "metadata": {},
      "outputs": [
        {
          "name": "stdout",
          "output_type": "stream",
          "text": [
            "(5230, 619)\n",
            "(5230, 1)\n",
            "(6588, 619)\n",
            "(6588, 1)\n",
            "(6588, 619)\n",
            "(6588, 1)\n"
          ]
        }
      ],
      "source": [
        "normalizer = normalizer_std(x_train) # We will normalize everything based on x_train\n",
        "\n",
        "train_dataset = RainfallDatasetFF(x_train.to_numpy(), y_train.to_numpy(), normalizer)\n",
        "val_dataset = RainfallDatasetFF(x_val.to_numpy(), y_val.to_numpy(), normalizer)\n",
        "test_dataset = RainfallDatasetFF(x_test.to_numpy(), y_test.to_numpy(), normalizer)\n",
        "\n",
        "\n",
        "train_loader = DataLoader(train_dataset, batch_size=64, shuffle=True, pin_memory=True)\n",
        "val_loader = DataLoader(val_dataset, batch_size=64, shuffle=False, pin_memory=True)\n",
        "test_loader = DataLoader(test_dataset, batch_size=64, shuffle=False, pin_memory=True)"
      ]
    },
    {
      "cell_type": "code",
      "execution_count": 44,
      "metadata": {},
      "outputs": [],
      "source": [
        "loss_fn = nn.L1Loss()\n",
        "device = torch.device(\"cuda\" if torch.cuda.is_available() else \"cpu\")"
      ]
    },
    {
      "cell_type": "code",
      "execution_count": 45,
      "metadata": {},
      "outputs": [
        {
          "data": {
            "text/plain": [
              "==========================================================================================\n",
              "Layer (type:depth-idx)                   Output Shape              Param #\n",
              "==========================================================================================\n",
              "FeedForwardNN                            [64, 1]                   --\n",
              "├─Linear: 1-1                            [64, 500]                 310,000\n",
              "├─Dropout: 1-2                           [64, 500]                 --\n",
              "├─Linear: 1-3                            [64, 500]                 250,500\n",
              "├─Dropout: 1-4                           [64, 500]                 --\n",
              "├─Linear: 1-5                            [64, 500]                 250,500\n",
              "├─Dropout: 1-6                           [64, 500]                 --\n",
              "├─Linear: 1-7                            [64, 1]                   501\n",
              "==========================================================================================\n",
              "Total params: 811,501\n",
              "Trainable params: 811,501\n",
              "Non-trainable params: 0\n",
              "Total mult-adds (M): 51.94\n",
              "==========================================================================================\n",
              "Input size (MB): 0.16\n",
              "Forward/backward pass size (MB): 0.77\n",
              "Params size (MB): 3.25\n",
              "Estimated Total Size (MB): 4.17\n",
              "=========================================================================================="
            ]
          },
          "execution_count": 45,
          "metadata": {},
          "output_type": "execute_result"
        }
      ],
      "source": [
        "# Hyperparameters and other configs\n",
        "config = {\n",
        "    'architecture': 'feedforward',\n",
        "    'lr': 0.01,\n",
        "    'hidden_size': 500,\n",
        "    'scheduler_factor': 0.2,\n",
        "    'scheduler_patience': 2,\n",
        "    'scheduler_min_lr': 1e-4,\n",
        "    'epochs': 30\n",
        "}\n",
        "\n",
        "# Model\n",
        "model_ff = FeedForwardNN(hidden_size=config['hidden_size'])\n",
        "model_ff = model_ff.to(device)\n",
        "optimizer = torch.optim.Adam(model_ff.parameters(), lr=config['lr'])\n",
        "scheduler = torch.optim.lr_scheduler.ReduceLROnPlateau(\n",
        "    optimizer,\n",
        "    'min',\n",
        "    factor=config['scheduler_factor'],\n",
        "    patience=config['scheduler_patience'],\n",
        "    min_lr=config['scheduler_min_lr']\n",
        ")\n",
        "\n",
        "summary(model_ff, input_size=(64, 619))"
      ]
    },
    {
      "cell_type": "code",
      "execution_count": 46,
      "metadata": {},
      "outputs": [
        {
          "name": "stdout",
          "output_type": "stream",
          "text": [
            "Training epoch 1...\n",
            "Current LR: 0.01\n"
          ]
        },
        {
          "data": {
            "application/vnd.jupyter.widget-view+json": {
              "model_id": "c248870578e34d488387dc3c3f81ab71",
              "version_major": 2,
              "version_minor": 0
            },
            "text/plain": [
              "  0%|          | 0/82 [00:00<?, ?it/s]"
            ]
          },
          "metadata": {},
          "output_type": "display_data"
        },
        {
          "name": "stdout",
          "output_type": "stream",
          "text": [
            "Epoch 1 train loss: 1.8242\n",
            "Validating epoch 1\n"
          ]
        },
        {
          "data": {
            "application/vnd.jupyter.widget-view+json": {
              "model_id": "b91ed556e8ab46ff87e4a61ea52eadea",
              "version_major": 2,
              "version_minor": 0
            },
            "text/plain": [
              "  0%|          | 0/103 [00:00<?, ?it/s]"
            ]
          },
          "metadata": {},
          "output_type": "display_data"
        },
        {
          "name": "stdout",
          "output_type": "stream",
          "text": [
            "Epoch 1 val loss: 1.2219\n",
            "Saving new best model..\n",
            "Training epoch 2...\n",
            "Current LR: 0.01\n"
          ]
        },
        {
          "data": {
            "application/vnd.jupyter.widget-view+json": {
              "model_id": "ca5f836afec64a3682093beb58128fba",
              "version_major": 2,
              "version_minor": 0
            },
            "text/plain": [
              "  0%|          | 0/82 [00:00<?, ?it/s]"
            ]
          },
          "metadata": {},
          "output_type": "display_data"
        },
        {
          "name": "stdout",
          "output_type": "stream",
          "text": [
            "Epoch 2 train loss: 1.1722\n",
            "Validating epoch 2\n"
          ]
        },
        {
          "data": {
            "application/vnd.jupyter.widget-view+json": {
              "model_id": "1c4bb89eaf1d43189fe5a2ec0dd048de",
              "version_major": 2,
              "version_minor": 0
            },
            "text/plain": [
              "  0%|          | 0/103 [00:00<?, ?it/s]"
            ]
          },
          "metadata": {},
          "output_type": "display_data"
        },
        {
          "name": "stdout",
          "output_type": "stream",
          "text": [
            "Epoch 2 val loss: 1.2598\n",
            "Training epoch 3...\n",
            "Current LR: 0.01\n"
          ]
        },
        {
          "data": {
            "application/vnd.jupyter.widget-view+json": {
              "model_id": "09438fd8f2d247aebb8bb81e47aa2d26",
              "version_major": 2,
              "version_minor": 0
            },
            "text/plain": [
              "  0%|          | 0/82 [00:00<?, ?it/s]"
            ]
          },
          "metadata": {},
          "output_type": "display_data"
        },
        {
          "name": "stdout",
          "output_type": "stream",
          "text": [
            "Epoch 3 train loss: 1.1251\n",
            "Validating epoch 3\n"
          ]
        },
        {
          "data": {
            "application/vnd.jupyter.widget-view+json": {
              "model_id": "af26acdb1c3743f099ee85e5a20d8047",
              "version_major": 2,
              "version_minor": 0
            },
            "text/plain": [
              "  0%|          | 0/103 [00:00<?, ?it/s]"
            ]
          },
          "metadata": {},
          "output_type": "display_data"
        },
        {
          "name": "stdout",
          "output_type": "stream",
          "text": [
            "Epoch 3 val loss: 1.2546\n",
            "Training epoch 4...\n",
            "Current LR: 0.01\n"
          ]
        },
        {
          "data": {
            "application/vnd.jupyter.widget-view+json": {
              "model_id": "5ae765367258456ba17ef6109bc94e3c",
              "version_major": 2,
              "version_minor": 0
            },
            "text/plain": [
              "  0%|          | 0/82 [00:00<?, ?it/s]"
            ]
          },
          "metadata": {},
          "output_type": "display_data"
        },
        {
          "name": "stdout",
          "output_type": "stream",
          "text": [
            "Epoch 4 train loss: 1.0862\n",
            "Validating epoch 4\n"
          ]
        },
        {
          "data": {
            "application/vnd.jupyter.widget-view+json": {
              "model_id": "514e4342a5cb415e9a4f5a01ed9afd4f",
              "version_major": 2,
              "version_minor": 0
            },
            "text/plain": [
              "  0%|          | 0/103 [00:00<?, ?it/s]"
            ]
          },
          "metadata": {},
          "output_type": "display_data"
        },
        {
          "name": "stdout",
          "output_type": "stream",
          "text": [
            "Epoch 4 val loss: 1.2493\n",
            "Training epoch 5...\n",
            "Current LR: 0.002\n"
          ]
        },
        {
          "data": {
            "application/vnd.jupyter.widget-view+json": {
              "model_id": "abcf8e5b520d4230b44fcdb2ea596bf8",
              "version_major": 2,
              "version_minor": 0
            },
            "text/plain": [
              "  0%|          | 0/82 [00:00<?, ?it/s]"
            ]
          },
          "metadata": {},
          "output_type": "display_data"
        },
        {
          "name": "stdout",
          "output_type": "stream",
          "text": [
            "Epoch 5 train loss: 1.0199\n",
            "Validating epoch 5\n"
          ]
        },
        {
          "data": {
            "application/vnd.jupyter.widget-view+json": {
              "model_id": "f18b566d26c24bd69356a21aa8bfdf43",
              "version_major": 2,
              "version_minor": 0
            },
            "text/plain": [
              "  0%|          | 0/103 [00:00<?, ?it/s]"
            ]
          },
          "metadata": {},
          "output_type": "display_data"
        },
        {
          "name": "stdout",
          "output_type": "stream",
          "text": [
            "Epoch 5 val loss: 1.2319\n",
            "Training epoch 6...\n",
            "Current LR: 0.002\n"
          ]
        },
        {
          "data": {
            "application/vnd.jupyter.widget-view+json": {
              "model_id": "b67c1b90abce4edba93184601b9d0eaa",
              "version_major": 2,
              "version_minor": 0
            },
            "text/plain": [
              "  0%|          | 0/82 [00:00<?, ?it/s]"
            ]
          },
          "metadata": {},
          "output_type": "display_data"
        },
        {
          "name": "stdout",
          "output_type": "stream",
          "text": [
            "Epoch 6 train loss: 0.9700\n",
            "Validating epoch 6\n"
          ]
        },
        {
          "data": {
            "application/vnd.jupyter.widget-view+json": {
              "model_id": "24011eb4659c4f359362730b5cae9eb7",
              "version_major": 2,
              "version_minor": 0
            },
            "text/plain": [
              "  0%|          | 0/103 [00:00<?, ?it/s]"
            ]
          },
          "metadata": {},
          "output_type": "display_data"
        },
        {
          "name": "stdout",
          "output_type": "stream",
          "text": [
            "Epoch 6 val loss: 1.2023\n",
            "Saving new best model..\n",
            "Training epoch 7...\n",
            "Current LR: 0.002\n"
          ]
        },
        {
          "data": {
            "application/vnd.jupyter.widget-view+json": {
              "model_id": "38adf5124771422c94c419eeec0cf0e6",
              "version_major": 2,
              "version_minor": 0
            },
            "text/plain": [
              "  0%|          | 0/82 [00:00<?, ?it/s]"
            ]
          },
          "metadata": {},
          "output_type": "display_data"
        },
        {
          "name": "stdout",
          "output_type": "stream",
          "text": [
            "Epoch 7 train loss: 0.9547\n",
            "Validating epoch 7\n"
          ]
        },
        {
          "data": {
            "application/vnd.jupyter.widget-view+json": {
              "model_id": "b587a3f2bc4a4e258961292090f5350e",
              "version_major": 2,
              "version_minor": 0
            },
            "text/plain": [
              "  0%|          | 0/103 [00:00<?, ?it/s]"
            ]
          },
          "metadata": {},
          "output_type": "display_data"
        },
        {
          "name": "stdout",
          "output_type": "stream",
          "text": [
            "Epoch 7 val loss: 1.1952\n",
            "Saving new best model..\n",
            "Training epoch 8...\n",
            "Current LR: 0.002\n"
          ]
        },
        {
          "data": {
            "application/vnd.jupyter.widget-view+json": {
              "model_id": "4f233f3d016b45da904f8bdd4154e722",
              "version_major": 2,
              "version_minor": 0
            },
            "text/plain": [
              "  0%|          | 0/82 [00:00<?, ?it/s]"
            ]
          },
          "metadata": {},
          "output_type": "display_data"
        },
        {
          "name": "stdout",
          "output_type": "stream",
          "text": [
            "Epoch 8 train loss: 0.9351\n",
            "Validating epoch 8\n"
          ]
        },
        {
          "data": {
            "application/vnd.jupyter.widget-view+json": {
              "model_id": "1e397d7ffcd541dbb6576d754fb4ac40",
              "version_major": 2,
              "version_minor": 0
            },
            "text/plain": [
              "  0%|          | 0/103 [00:00<?, ?it/s]"
            ]
          },
          "metadata": {},
          "output_type": "display_data"
        },
        {
          "name": "stdout",
          "output_type": "stream",
          "text": [
            "Epoch 8 val loss: 1.2068\n",
            "Training epoch 9...\n",
            "Current LR: 0.002\n"
          ]
        },
        {
          "data": {
            "application/vnd.jupyter.widget-view+json": {
              "model_id": "622ebf495209484b8a53fa6252cb27e1",
              "version_major": 2,
              "version_minor": 0
            },
            "text/plain": [
              "  0%|          | 0/82 [00:00<?, ?it/s]"
            ]
          },
          "metadata": {},
          "output_type": "display_data"
        },
        {
          "name": "stdout",
          "output_type": "stream",
          "text": [
            "Epoch 9 train loss: 0.9302\n",
            "Validating epoch 9\n"
          ]
        },
        {
          "data": {
            "application/vnd.jupyter.widget-view+json": {
              "model_id": "9502cceafbdc46ea9eb5d6e589fff26c",
              "version_major": 2,
              "version_minor": 0
            },
            "text/plain": [
              "  0%|          | 0/103 [00:00<?, ?it/s]"
            ]
          },
          "metadata": {},
          "output_type": "display_data"
        },
        {
          "name": "stdout",
          "output_type": "stream",
          "text": [
            "Epoch 9 val loss: 1.2252\n",
            "Training epoch 10...\n",
            "Current LR: 0.002\n"
          ]
        },
        {
          "data": {
            "application/vnd.jupyter.widget-view+json": {
              "model_id": "1f70107178af479ab93d5e0274b5a2bf",
              "version_major": 2,
              "version_minor": 0
            },
            "text/plain": [
              "  0%|          | 0/82 [00:00<?, ?it/s]"
            ]
          },
          "metadata": {},
          "output_type": "display_data"
        },
        {
          "name": "stdout",
          "output_type": "stream",
          "text": [
            "Epoch 10 train loss: 0.9313\n",
            "Validating epoch 10\n"
          ]
        },
        {
          "data": {
            "application/vnd.jupyter.widget-view+json": {
              "model_id": "631539c47df445688847ae3102542f79",
              "version_major": 2,
              "version_minor": 0
            },
            "text/plain": [
              "  0%|          | 0/103 [00:00<?, ?it/s]"
            ]
          },
          "metadata": {},
          "output_type": "display_data"
        },
        {
          "name": "stdout",
          "output_type": "stream",
          "text": [
            "Epoch 10 val loss: 1.2193\n",
            "Training epoch 11...\n",
            "Current LR: 0.0004\n"
          ]
        },
        {
          "data": {
            "application/vnd.jupyter.widget-view+json": {
              "model_id": "3013c755f2f64c769bc0cb10dbeaac98",
              "version_major": 2,
              "version_minor": 0
            },
            "text/plain": [
              "  0%|          | 0/82 [00:00<?, ?it/s]"
            ]
          },
          "metadata": {},
          "output_type": "display_data"
        },
        {
          "name": "stdout",
          "output_type": "stream",
          "text": [
            "Epoch 11 train loss: 0.8942\n",
            "Validating epoch 11\n"
          ]
        },
        {
          "data": {
            "application/vnd.jupyter.widget-view+json": {
              "model_id": "c0f35623739941d69ec9e4482c46dc35",
              "version_major": 2,
              "version_minor": 0
            },
            "text/plain": [
              "  0%|          | 0/103 [00:00<?, ?it/s]"
            ]
          },
          "metadata": {},
          "output_type": "display_data"
        },
        {
          "name": "stdout",
          "output_type": "stream",
          "text": [
            "Epoch 11 val loss: 1.2154\n",
            "Training epoch 12...\n",
            "Current LR: 0.0004\n"
          ]
        },
        {
          "data": {
            "application/vnd.jupyter.widget-view+json": {
              "model_id": "a6e71b8f6b8c4b33a3751d11baa7469d",
              "version_major": 2,
              "version_minor": 0
            },
            "text/plain": [
              "  0%|          | 0/82 [00:00<?, ?it/s]"
            ]
          },
          "metadata": {},
          "output_type": "display_data"
        },
        {
          "name": "stdout",
          "output_type": "stream",
          "text": [
            "Epoch 12 train loss: 0.8922\n",
            "Validating epoch 12\n"
          ]
        },
        {
          "data": {
            "application/vnd.jupyter.widget-view+json": {
              "model_id": "033d29fc268940d2b3a930fd9c890830",
              "version_major": 2,
              "version_minor": 0
            },
            "text/plain": [
              "  0%|          | 0/103 [00:00<?, ?it/s]"
            ]
          },
          "metadata": {},
          "output_type": "display_data"
        },
        {
          "name": "stdout",
          "output_type": "stream",
          "text": [
            "Epoch 12 val loss: 1.2136\n",
            "Training epoch 13...\n",
            "Current LR: 0.0004\n"
          ]
        },
        {
          "data": {
            "application/vnd.jupyter.widget-view+json": {
              "model_id": "c5ef94e146924951ac21197de85ce4c0",
              "version_major": 2,
              "version_minor": 0
            },
            "text/plain": [
              "  0%|          | 0/82 [00:00<?, ?it/s]"
            ]
          },
          "metadata": {},
          "output_type": "display_data"
        },
        {
          "name": "stdout",
          "output_type": "stream",
          "text": [
            "Epoch 13 train loss: 0.8849\n",
            "Validating epoch 13\n"
          ]
        },
        {
          "data": {
            "application/vnd.jupyter.widget-view+json": {
              "model_id": "fa24982436cf41d48242d4d6dff3a710",
              "version_major": 2,
              "version_minor": 0
            },
            "text/plain": [
              "  0%|          | 0/103 [00:00<?, ?it/s]"
            ]
          },
          "metadata": {},
          "output_type": "display_data"
        },
        {
          "name": "stdout",
          "output_type": "stream",
          "text": [
            "Epoch 13 val loss: 1.2170\n",
            "Training epoch 14...\n",
            "Current LR: 0.0001\n"
          ]
        },
        {
          "data": {
            "application/vnd.jupyter.widget-view+json": {
              "model_id": "e2f8636cd03a4abb9cf0c680b989b085",
              "version_major": 2,
              "version_minor": 0
            },
            "text/plain": [
              "  0%|          | 0/82 [00:00<?, ?it/s]"
            ]
          },
          "metadata": {},
          "output_type": "display_data"
        },
        {
          "name": "stdout",
          "output_type": "stream",
          "text": [
            "Epoch 14 train loss: 0.8712\n",
            "Validating epoch 14\n"
          ]
        },
        {
          "data": {
            "application/vnd.jupyter.widget-view+json": {
              "model_id": "24a2368e9a9448559e09208849a8ed4b",
              "version_major": 2,
              "version_minor": 0
            },
            "text/plain": [
              "  0%|          | 0/103 [00:00<?, ?it/s]"
            ]
          },
          "metadata": {},
          "output_type": "display_data"
        },
        {
          "name": "stdout",
          "output_type": "stream",
          "text": [
            "Epoch 14 val loss: 1.2176\n",
            "Training epoch 15...\n",
            "Current LR: 0.0001\n"
          ]
        },
        {
          "data": {
            "application/vnd.jupyter.widget-view+json": {
              "model_id": "a0d6efb6481448ddb6bbfb9cfafef166",
              "version_major": 2,
              "version_minor": 0
            },
            "text/plain": [
              "  0%|          | 0/82 [00:00<?, ?it/s]"
            ]
          },
          "metadata": {},
          "output_type": "display_data"
        },
        {
          "name": "stdout",
          "output_type": "stream",
          "text": [
            "Epoch 15 train loss: 0.8768\n",
            "Validating epoch 15\n"
          ]
        },
        {
          "data": {
            "application/vnd.jupyter.widget-view+json": {
              "model_id": "4dbd3ba1cb7b4325b248b7014bac4475",
              "version_major": 2,
              "version_minor": 0
            },
            "text/plain": [
              "  0%|          | 0/103 [00:00<?, ?it/s]"
            ]
          },
          "metadata": {},
          "output_type": "display_data"
        },
        {
          "name": "stdout",
          "output_type": "stream",
          "text": [
            "Epoch 15 val loss: 1.2215\n",
            "Training epoch 16...\n",
            "Current LR: 0.0001\n"
          ]
        },
        {
          "data": {
            "application/vnd.jupyter.widget-view+json": {
              "model_id": "3d8531667c9e43efb610f144dadc5762",
              "version_major": 2,
              "version_minor": 0
            },
            "text/plain": [
              "  0%|          | 0/82 [00:00<?, ?it/s]"
            ]
          },
          "metadata": {},
          "output_type": "display_data"
        },
        {
          "name": "stdout",
          "output_type": "stream",
          "text": [
            "Epoch 16 train loss: 0.8708\n",
            "Validating epoch 16\n"
          ]
        },
        {
          "data": {
            "application/vnd.jupyter.widget-view+json": {
              "model_id": "dc7ed0dc129e4287b5653732bd3196a5",
              "version_major": 2,
              "version_minor": 0
            },
            "text/plain": [
              "  0%|          | 0/103 [00:00<?, ?it/s]"
            ]
          },
          "metadata": {},
          "output_type": "display_data"
        },
        {
          "name": "stdout",
          "output_type": "stream",
          "text": [
            "Epoch 16 val loss: 1.2183\n",
            "Training epoch 17...\n",
            "Current LR: 0.0001\n"
          ]
        },
        {
          "data": {
            "application/vnd.jupyter.widget-view+json": {
              "model_id": "1d13ee5b672d424b9b37aa5fc2b66b57",
              "version_major": 2,
              "version_minor": 0
            },
            "text/plain": [
              "  0%|          | 0/82 [00:00<?, ?it/s]"
            ]
          },
          "metadata": {},
          "output_type": "display_data"
        },
        {
          "name": "stdout",
          "output_type": "stream",
          "text": [
            "Epoch 17 train loss: 0.8560\n",
            "Validating epoch 17\n"
          ]
        },
        {
          "data": {
            "application/vnd.jupyter.widget-view+json": {
              "model_id": "84401294aad84187921fde7a057018c4",
              "version_major": 2,
              "version_minor": 0
            },
            "text/plain": [
              "  0%|          | 0/103 [00:00<?, ?it/s]"
            ]
          },
          "metadata": {},
          "output_type": "display_data"
        },
        {
          "name": "stdout",
          "output_type": "stream",
          "text": [
            "Epoch 17 val loss: 1.2202\n",
            "Training epoch 18...\n",
            "Current LR: 0.0001\n"
          ]
        },
        {
          "data": {
            "application/vnd.jupyter.widget-view+json": {
              "model_id": "7092dd8a529c45dca898549ea53d6a5f",
              "version_major": 2,
              "version_minor": 0
            },
            "text/plain": [
              "  0%|          | 0/82 [00:00<?, ?it/s]"
            ]
          },
          "metadata": {},
          "output_type": "display_data"
        },
        {
          "name": "stdout",
          "output_type": "stream",
          "text": [
            "Epoch 18 train loss: 0.8642\n",
            "Validating epoch 18\n"
          ]
        },
        {
          "data": {
            "application/vnd.jupyter.widget-view+json": {
              "model_id": "06bed57afb2e4aa99d48bd65968ac323",
              "version_major": 2,
              "version_minor": 0
            },
            "text/plain": [
              "  0%|          | 0/103 [00:00<?, ?it/s]"
            ]
          },
          "metadata": {},
          "output_type": "display_data"
        },
        {
          "name": "stdout",
          "output_type": "stream",
          "text": [
            "Epoch 18 val loss: 1.2209\n",
            "Training epoch 19...\n",
            "Current LR: 0.0001\n"
          ]
        },
        {
          "data": {
            "application/vnd.jupyter.widget-view+json": {
              "model_id": "12642bf8a30e4de89960e362ea04f64b",
              "version_major": 2,
              "version_minor": 0
            },
            "text/plain": [
              "  0%|          | 0/82 [00:00<?, ?it/s]"
            ]
          },
          "metadata": {},
          "output_type": "display_data"
        },
        {
          "name": "stdout",
          "output_type": "stream",
          "text": [
            "Epoch 19 train loss: 0.8564\n",
            "Validating epoch 19\n"
          ]
        },
        {
          "data": {
            "application/vnd.jupyter.widget-view+json": {
              "model_id": "122086960de849519a5aa075d2f517d5",
              "version_major": 2,
              "version_minor": 0
            },
            "text/plain": [
              "  0%|          | 0/103 [00:00<?, ?it/s]"
            ]
          },
          "metadata": {},
          "output_type": "display_data"
        },
        {
          "name": "stdout",
          "output_type": "stream",
          "text": [
            "Epoch 19 val loss: 1.2214\n",
            "Training epoch 20...\n",
            "Current LR: 0.0001\n"
          ]
        },
        {
          "data": {
            "application/vnd.jupyter.widget-view+json": {
              "model_id": "d921a9f9e2944636a2fc6e744cd9726b",
              "version_major": 2,
              "version_minor": 0
            },
            "text/plain": [
              "  0%|          | 0/82 [00:00<?, ?it/s]"
            ]
          },
          "metadata": {},
          "output_type": "display_data"
        },
        {
          "name": "stdout",
          "output_type": "stream",
          "text": [
            "Epoch 20 train loss: 0.8666\n",
            "Validating epoch 20\n"
          ]
        },
        {
          "data": {
            "application/vnd.jupyter.widget-view+json": {
              "model_id": "a62401e37a9b4608bf530f11bbca1044",
              "version_major": 2,
              "version_minor": 0
            },
            "text/plain": [
              "  0%|          | 0/103 [00:00<?, ?it/s]"
            ]
          },
          "metadata": {},
          "output_type": "display_data"
        },
        {
          "name": "stdout",
          "output_type": "stream",
          "text": [
            "Epoch 20 val loss: 1.2214\n",
            "Training epoch 21...\n",
            "Current LR: 0.0001\n"
          ]
        },
        {
          "data": {
            "application/vnd.jupyter.widget-view+json": {
              "model_id": "e9d91b31bd2b408b9a3a0f4466dc4874",
              "version_major": 2,
              "version_minor": 0
            },
            "text/plain": [
              "  0%|          | 0/82 [00:00<?, ?it/s]"
            ]
          },
          "metadata": {},
          "output_type": "display_data"
        },
        {
          "name": "stdout",
          "output_type": "stream",
          "text": [
            "Epoch 21 train loss: 0.8544\n",
            "Validating epoch 21\n"
          ]
        },
        {
          "data": {
            "application/vnd.jupyter.widget-view+json": {
              "model_id": "2940370c83e647b19a4576d1ddd0427f",
              "version_major": 2,
              "version_minor": 0
            },
            "text/plain": [
              "  0%|          | 0/103 [00:00<?, ?it/s]"
            ]
          },
          "metadata": {},
          "output_type": "display_data"
        },
        {
          "name": "stdout",
          "output_type": "stream",
          "text": [
            "Epoch 21 val loss: 1.2218\n",
            "Training epoch 22...\n",
            "Current LR: 0.0001\n"
          ]
        },
        {
          "data": {
            "application/vnd.jupyter.widget-view+json": {
              "model_id": "72c93089fba94360ab3b2f365310f300",
              "version_major": 2,
              "version_minor": 0
            },
            "text/plain": [
              "  0%|          | 0/82 [00:00<?, ?it/s]"
            ]
          },
          "metadata": {},
          "output_type": "display_data"
        },
        {
          "name": "stdout",
          "output_type": "stream",
          "text": [
            "Epoch 22 train loss: 0.8523\n",
            "Validating epoch 22\n"
          ]
        },
        {
          "data": {
            "application/vnd.jupyter.widget-view+json": {
              "model_id": "48d261ba0e774570b8873104d642adf0",
              "version_major": 2,
              "version_minor": 0
            },
            "text/plain": [
              "  0%|          | 0/103 [00:00<?, ?it/s]"
            ]
          },
          "metadata": {},
          "output_type": "display_data"
        },
        {
          "name": "stdout",
          "output_type": "stream",
          "text": [
            "Epoch 22 val loss: 1.2225\n",
            "Training epoch 23...\n",
            "Current LR: 0.0001\n"
          ]
        },
        {
          "data": {
            "application/vnd.jupyter.widget-view+json": {
              "model_id": "7f124c58cf1b4333aa8ba29a9acf1129",
              "version_major": 2,
              "version_minor": 0
            },
            "text/plain": [
              "  0%|          | 0/82 [00:00<?, ?it/s]"
            ]
          },
          "metadata": {},
          "output_type": "display_data"
        },
        {
          "name": "stdout",
          "output_type": "stream",
          "text": [
            "Epoch 23 train loss: 0.8517\n",
            "Validating epoch 23\n"
          ]
        },
        {
          "data": {
            "application/vnd.jupyter.widget-view+json": {
              "model_id": "b33e7b3868af43449249a8732d38763f",
              "version_major": 2,
              "version_minor": 0
            },
            "text/plain": [
              "  0%|          | 0/103 [00:00<?, ?it/s]"
            ]
          },
          "metadata": {},
          "output_type": "display_data"
        },
        {
          "name": "stdout",
          "output_type": "stream",
          "text": [
            "Epoch 23 val loss: 1.2234\n",
            "Training epoch 24...\n",
            "Current LR: 0.0001\n"
          ]
        },
        {
          "data": {
            "application/vnd.jupyter.widget-view+json": {
              "model_id": "24c5170632b9488b9da69680a905a06a",
              "version_major": 2,
              "version_minor": 0
            },
            "text/plain": [
              "  0%|          | 0/82 [00:00<?, ?it/s]"
            ]
          },
          "metadata": {},
          "output_type": "display_data"
        },
        {
          "name": "stdout",
          "output_type": "stream",
          "text": [
            "Epoch 24 train loss: 0.8573\n",
            "Validating epoch 24\n"
          ]
        },
        {
          "data": {
            "application/vnd.jupyter.widget-view+json": {
              "model_id": "0ed26a79351640d0953b32c1ee9a9a8d",
              "version_major": 2,
              "version_minor": 0
            },
            "text/plain": [
              "  0%|          | 0/103 [00:00<?, ?it/s]"
            ]
          },
          "metadata": {},
          "output_type": "display_data"
        },
        {
          "name": "stdout",
          "output_type": "stream",
          "text": [
            "Epoch 24 val loss: 1.2240\n",
            "Training epoch 25...\n",
            "Current LR: 0.0001\n"
          ]
        },
        {
          "data": {
            "application/vnd.jupyter.widget-view+json": {
              "model_id": "3bb2baaabcf8484987f1b035caa52eb4",
              "version_major": 2,
              "version_minor": 0
            },
            "text/plain": [
              "  0%|          | 0/82 [00:00<?, ?it/s]"
            ]
          },
          "metadata": {},
          "output_type": "display_data"
        },
        {
          "name": "stdout",
          "output_type": "stream",
          "text": [
            "Epoch 25 train loss: 0.8537\n",
            "Validating epoch 25\n"
          ]
        },
        {
          "data": {
            "application/vnd.jupyter.widget-view+json": {
              "model_id": "2ce49056716a4873b317f23be496e6fb",
              "version_major": 2,
              "version_minor": 0
            },
            "text/plain": [
              "  0%|          | 0/103 [00:00<?, ?it/s]"
            ]
          },
          "metadata": {},
          "output_type": "display_data"
        },
        {
          "name": "stdout",
          "output_type": "stream",
          "text": [
            "Epoch 25 val loss: 1.2227\n",
            "Training epoch 26...\n",
            "Current LR: 0.0001\n"
          ]
        },
        {
          "data": {
            "application/vnd.jupyter.widget-view+json": {
              "model_id": "4e3e4b87d8c34ac1823c0639734aac5c",
              "version_major": 2,
              "version_minor": 0
            },
            "text/plain": [
              "  0%|          | 0/82 [00:00<?, ?it/s]"
            ]
          },
          "metadata": {},
          "output_type": "display_data"
        },
        {
          "name": "stdout",
          "output_type": "stream",
          "text": [
            "Epoch 26 train loss: 0.8520\n",
            "Validating epoch 26\n"
          ]
        },
        {
          "data": {
            "application/vnd.jupyter.widget-view+json": {
              "model_id": "48e94890d7514cfb817747e64e563449",
              "version_major": 2,
              "version_minor": 0
            },
            "text/plain": [
              "  0%|          | 0/103 [00:00<?, ?it/s]"
            ]
          },
          "metadata": {},
          "output_type": "display_data"
        },
        {
          "name": "stdout",
          "output_type": "stream",
          "text": [
            "Epoch 26 val loss: 1.2231\n",
            "Training epoch 27...\n",
            "Current LR: 0.0001\n"
          ]
        },
        {
          "data": {
            "application/vnd.jupyter.widget-view+json": {
              "model_id": "02f1b097f6c34fedbc76907884370528",
              "version_major": 2,
              "version_minor": 0
            },
            "text/plain": [
              "  0%|          | 0/82 [00:00<?, ?it/s]"
            ]
          },
          "metadata": {},
          "output_type": "display_data"
        },
        {
          "name": "stdout",
          "output_type": "stream",
          "text": [
            "Epoch 27 train loss: 0.8487\n",
            "Validating epoch 27\n"
          ]
        },
        {
          "data": {
            "application/vnd.jupyter.widget-view+json": {
              "model_id": "acc01a16803b48a081f3a7309ed63fdb",
              "version_major": 2,
              "version_minor": 0
            },
            "text/plain": [
              "  0%|          | 0/103 [00:00<?, ?it/s]"
            ]
          },
          "metadata": {},
          "output_type": "display_data"
        },
        {
          "name": "stdout",
          "output_type": "stream",
          "text": [
            "Epoch 27 val loss: 1.2257\n",
            "Training epoch 28...\n",
            "Current LR: 0.0001\n"
          ]
        },
        {
          "data": {
            "application/vnd.jupyter.widget-view+json": {
              "model_id": "dea12dfed3bd4ab9875a4176e2379d01",
              "version_major": 2,
              "version_minor": 0
            },
            "text/plain": [
              "  0%|          | 0/82 [00:00<?, ?it/s]"
            ]
          },
          "metadata": {},
          "output_type": "display_data"
        },
        {
          "name": "stdout",
          "output_type": "stream",
          "text": [
            "Epoch 28 train loss: 0.8495\n",
            "Validating epoch 28\n"
          ]
        },
        {
          "data": {
            "application/vnd.jupyter.widget-view+json": {
              "model_id": "57b52a295aec4a9a8a3ac49ee4b8f54b",
              "version_major": 2,
              "version_minor": 0
            },
            "text/plain": [
              "  0%|          | 0/103 [00:00<?, ?it/s]"
            ]
          },
          "metadata": {},
          "output_type": "display_data"
        },
        {
          "name": "stdout",
          "output_type": "stream",
          "text": [
            "Epoch 28 val loss: 1.2257\n",
            "Training epoch 29...\n",
            "Current LR: 0.0001\n"
          ]
        },
        {
          "data": {
            "application/vnd.jupyter.widget-view+json": {
              "model_id": "4b81bd2eaf1649488c351697682df261",
              "version_major": 2,
              "version_minor": 0
            },
            "text/plain": [
              "  0%|          | 0/82 [00:00<?, ?it/s]"
            ]
          },
          "metadata": {},
          "output_type": "display_data"
        },
        {
          "name": "stdout",
          "output_type": "stream",
          "text": [
            "Epoch 29 train loss: 0.8446\n",
            "Validating epoch 29\n"
          ]
        },
        {
          "data": {
            "application/vnd.jupyter.widget-view+json": {
              "model_id": "dc4abd1f233e40919b1f887faeda99ac",
              "version_major": 2,
              "version_minor": 0
            },
            "text/plain": [
              "  0%|          | 0/103 [00:00<?, ?it/s]"
            ]
          },
          "metadata": {},
          "output_type": "display_data"
        },
        {
          "name": "stdout",
          "output_type": "stream",
          "text": [
            "Epoch 29 val loss: 1.2249\n",
            "Training epoch 30...\n",
            "Current LR: 0.0001\n"
          ]
        },
        {
          "data": {
            "application/vnd.jupyter.widget-view+json": {
              "model_id": "68d18dce28064a1288f5c19a47c01f0f",
              "version_major": 2,
              "version_minor": 0
            },
            "text/plain": [
              "  0%|          | 0/82 [00:00<?, ?it/s]"
            ]
          },
          "metadata": {},
          "output_type": "display_data"
        },
        {
          "name": "stdout",
          "output_type": "stream",
          "text": [
            "Epoch 30 train loss: 0.8435\n",
            "Validating epoch 30\n"
          ]
        },
        {
          "data": {
            "application/vnd.jupyter.widget-view+json": {
              "model_id": "7802c43c6036498cbddd6e6f3195206e",
              "version_major": 2,
              "version_minor": 0
            },
            "text/plain": [
              "  0%|          | 0/103 [00:00<?, ?it/s]"
            ]
          },
          "metadata": {},
          "output_type": "display_data"
        },
        {
          "name": "stdout",
          "output_type": "stream",
          "text": [
            "Epoch 30 val loss: 1.2268\n",
            "Finished Training\n"
          ]
        }
      ],
      "source": [
        "train_losses = []\n",
        "val_losses = []\n",
        "learning_rates = []\n",
        "\n",
        "for epoch in range(config['epochs']):  # loop over the dataset multiple times\n",
        "\n",
        "    # Training\n",
        "    train_loss = []\n",
        "    current_lr = optimizer.param_groups[0]['lr']\n",
        "    learning_rates.append(current_lr)\n",
        "\n",
        "    # Flag model as training. Some layers behave differently in training and\n",
        "    # inference modes, such as dropout, BN, etc.\n",
        "    model_ff.train()\n",
        "\n",
        "    print(f\"Training epoch {epoch+1}...\")\n",
        "    print(f\"Current LR: {current_lr}\")\n",
        "\n",
        "    for i, (inputs, y_true) in enumerate(tqdm(train_loader)):\n",
        "        # Transfer data from cpu to gpu\n",
        "        inputs = inputs.to(device)\n",
        "        y_true = y_true.to(device)\n",
        "\n",
        "        # Reset the gradient\n",
        "        optimizer.zero_grad()\n",
        "\n",
        "        # Predict\n",
        "        y_pred = model_ff(inputs)\n",
        "\n",
        "        # Calculate loss\n",
        "        loss = loss_fn(y_pred, y_true)\n",
        "\n",
        "        # Compute gradient\n",
        "        loss.backward()\n",
        "\n",
        "        # Update parameters\n",
        "        optimizer.step()\n",
        "\n",
        "        # Log stuff\n",
        "        train_loss.append(loss)\n",
        "\n",
        "    avg_train_loss = torch.stack(train_loss).mean().item()\n",
        "    train_losses.append(avg_train_loss)\n",
        "\n",
        "    print(f\"Epoch {epoch+1} train loss: {avg_train_loss:.4f}\")\n",
        "\n",
        "    # Validation\n",
        "    model_ff.eval()\n",
        "    with torch.no_grad(): # No gradient is required during validation\n",
        "        print(f\"Validating epoch {epoch+1}\")\n",
        "        val_loss = []\n",
        "        for i, (inputs, y_true) in enumerate(tqdm(val_loader)):\n",
        "            # Transfer data from cpu to gpu\n",
        "            inputs = inputs.to(device)\n",
        "            y_true = y_true.to(device)\n",
        "\n",
        "            # Predict\n",
        "            y_pred = model_ff(inputs)\n",
        "\n",
        "            # Calculate loss\n",
        "            loss = loss_fn(y_pred, y_true)\n",
        "\n",
        "            # Log stuff\n",
        "            val_loss.append(loss)\n",
        "\n",
        "        avg_val_loss = torch.stack(val_loss).mean().item()\n",
        "        val_losses.append(avg_val_loss)\n",
        "        print(f\"Epoch {epoch+1} val loss: {avg_val_loss:.4f}\")\n",
        "\n",
        "        # LR adjustment with scheduler\n",
        "        scheduler.step(avg_val_loss)\n",
        "\n",
        "        # Save checkpoint if val_loss is the best we got\n",
        "        best_val_loss = np.inf if epoch == 0 else min(val_losses[:-1])\n",
        "        if avg_val_loss < best_val_loss:\n",
        "            # Save whatever you want\n",
        "            state = {\n",
        "                'epoch': epoch,\n",
        "                'model': model_ff.state_dict(),\n",
        "                'optimizer': optimizer.state_dict(),\n",
        "                'scheduler': scheduler.state_dict(),\n",
        "                'train_loss': avg_train_loss,\n",
        "                'val_loss': avg_val_loss,\n",
        "                'best_val_loss': best_val_loss,\n",
        "            }\n",
        "\n",
        "            print(f\"Saving new best model..\")\n",
        "            torch.save(state, 'model_ff.pth.tar')\n",
        "\n",
        "print('Finished Training')"
      ]
    },
    {
      "cell_type": "code",
      "execution_count": 47,
      "metadata": {},
      "outputs": [
        {
          "data": {
            "image/png": "[encoded data removed]",
            "text/plain": [
              "<Figure size 640x480 with 1 Axes>"
            ]
          },
          "metadata": {},
          "output_type": "display_data"
        }
      ],
      "source": [
        "x = [i + 1 for i in range(config['epochs'])]\n",
        "\n",
        "plt.plot(x, train_losses,color = 'blue')\n",
        "plt.title(\"Train&val Loss\")\n",
        "plt.plot(x, val_losses,color = 'red')\n",
        "\n",
        "plt.show()"
      ]
    },
    {
      "cell_type": "code",
      "execution_count": 48,
      "metadata": {},
      "outputs": [
        {
          "data": {
            "image/png": "[encoded data removed]",
            "text/plain": [
              "<Figure size 640x480 with 1 Axes>"
            ]
          },
          "metadata": {},
          "output_type": "display_data"
        }
      ],
      "source": [
        "plt.plot(x, learning_rates, label=\"Learning Rate\")\n",
        "plt.legend()\n",
        "plt.show()"
      ]
    },
    {
      "cell_type": "code",
      "execution_count": 49,
      "metadata": {},
      "outputs": [],
      "source": [
        "# Assuming you have defined your model (model_gru) and loaded the test dataset (test_loader)\n",
        "\n",
        "# Load the best model checkpoint\n",
        "checkpoint = torch.load(\"model_ff.pth.tar\")\n",
        "model_ff.load_state_dict(checkpoint['model'])\n",
        "\n",
        "# Set model to evaluation mode\n",
        "model_ff.eval()\n",
        "\n",
        "# Make predictions on the test set\n",
        "predictions = []\n",
        "with torch.no_grad():\n",
        "    for inputs, _ in test_loader:  # assuming test_loader yields (inputs, _), where _ is ignored\n",
        "        inputs = inputs.to(device)  # Transfer data to GPU if available\n",
        "        y_pred = model_ff(inputs)\n",
        "        predictions.append(y_pred.cpu().numpy())  # Convert predictions to numpy array and move to CPU\n",
        "\n",
        "# Concatenate predictions into a single numpy array\n",
        "predictions = np.concatenate(predictions)\n",
        "\n",
        "# Now you have predictions for the test set, you can further process or analyze them as needed.\n"
      ]
    },
    {
      "cell_type": "code",
      "execution_count": 50,
      "metadata": {},
      "outputs": [],
      "source": [
        "\n",
        "predictions = pd.DataFrame(predictions, columns=['predictions'])"
      ]
    },
    {
      "cell_type": "code",
      "execution_count": 51,
      "metadata": {},
      "outputs": [
        {
          "data": {
            "text/html": [
              "<div>\n",
              "<style scoped>\n",
              "    .dataframe tbody tr th:only-of-type {\n",
              "        vertical-align: middle;\n",
              "    }\n",
              "\n",
              "    .dataframe tbody tr th {\n",
              "        vertical-align: top;\n",
              "    }\n",
              "\n",
              "    .dataframe thead th {\n",
              "        text-align: right;\n",
              "    }\n",
              "</style>\n",
              "<table border=\"1\" class=\"dataframe\">\n",
              "  <thead>\n",
              "    <tr style=\"text-align: right;\">\n",
              "      <th></th>\n",
              "      <th>predictions</th>\n",
              "    </tr>\n",
              "  </thead>\n",
              "  <tbody>\n",
              "    <tr>\n",
              "      <th>0</th>\n",
              "      <td>2.788813</td>\n",
              "    </tr>\n",
              "    <tr>\n",
              "      <th>1</th>\n",
              "      <td>2.989002</td>\n",
              "    </tr>\n",
              "    <tr>\n",
              "      <th>2</th>\n",
              "      <td>3.018854</td>\n",
              "    </tr>\n",
              "    <tr>\n",
              "      <th>3</th>\n",
              "      <td>3.018854</td>\n",
              "    </tr>\n",
              "    <tr>\n",
              "      <th>4</th>\n",
              "      <td>3.018854</td>\n",
              "    </tr>\n",
              "    <tr>\n",
              "      <th>...</th>\n",
              "      <td>...</td>\n",
              "    </tr>\n",
              "    <tr>\n",
              "      <th>6583</th>\n",
              "      <td>3.018854</td>\n",
              "    </tr>\n",
              "    <tr>\n",
              "      <th>6584</th>\n",
              "      <td>2.850466</td>\n",
              "    </tr>\n",
              "    <tr>\n",
              "      <th>6585</th>\n",
              "      <td>3.018854</td>\n",
              "    </tr>\n",
              "    <tr>\n",
              "      <th>6586</th>\n",
              "      <td>2.547142</td>\n",
              "    </tr>\n",
              "    <tr>\n",
              "      <th>6587</th>\n",
              "      <td>2.673576</td>\n",
              "    </tr>\n",
              "  </tbody>\n",
              "</table>\n",
              "<p>6588 rows × 1 columns</p>\n",
              "</div>"
            ],
            "text/plain": [
              "      predictions\n",
              "0        2.788813\n",
              "1        2.989002\n",
              "2        3.018854\n",
              "3        3.018854\n",
              "4        3.018854\n",
              "...           ...\n",
              "6583     3.018854\n",
              "6584     2.850466\n",
              "6585     3.018854\n",
              "6586     2.547142\n",
              "6587     2.673576\n",
              "\n",
              "[6588 rows x 1 columns]"
            ]
          },
          "execution_count": 51,
          "metadata": {},
          "output_type": "execute_result"
        }
      ],
      "source": [
        "predictions"
      ]
    },
    {
      "cell_type": "code",
      "execution_count": 52,
      "metadata": {},
      "outputs": [
        {
          "data": {
            "text/html": [
              "<div>\n",
              "<style scoped>\n",
              "    .dataframe tbody tr th:only-of-type {\n",
              "        vertical-align: middle;\n",
              "    }\n",
              "\n",
              "    .dataframe tbody tr th {\n",
              "        vertical-align: top;\n",
              "    }\n",
              "\n",
              "    .dataframe thead th {\n",
              "        text-align: right;\n",
              "    }\n",
              "</style>\n",
              "<table border=\"1\" class=\"dataframe\">\n",
              "  <thead>\n",
              "    <tr style=\"text-align: right;\">\n",
              "      <th></th>\n",
              "      <th>order_item_quantity</th>\n",
              "    </tr>\n",
              "  </thead>\n",
              "  <tbody>\n",
              "    <tr>\n",
              "      <th>17927</th>\n",
              "      <td>4</td>\n",
              "    </tr>\n",
              "    <tr>\n",
              "      <th>17928</th>\n",
              "      <td>1</td>\n",
              "    </tr>\n",
              "    <tr>\n",
              "      <th>17929</th>\n",
              "      <td>1</td>\n",
              "    </tr>\n",
              "    <tr>\n",
              "      <th>17930</th>\n",
              "      <td>5</td>\n",
              "    </tr>\n",
              "    <tr>\n",
              "      <th>17931</th>\n",
              "      <td>3</td>\n",
              "    </tr>\n",
              "    <tr>\n",
              "      <th>...</th>\n",
              "      <td>...</td>\n",
              "    </tr>\n",
              "    <tr>\n",
              "      <th>24510</th>\n",
              "      <td>3</td>\n",
              "    </tr>\n",
              "    <tr>\n",
              "      <th>24511</th>\n",
              "      <td>1</td>\n",
              "    </tr>\n",
              "    <tr>\n",
              "      <th>24512</th>\n",
              "      <td>1</td>\n",
              "    </tr>\n",
              "    <tr>\n",
              "      <th>24513</th>\n",
              "      <td>4</td>\n",
              "    </tr>\n",
              "    <tr>\n",
              "      <th>24514</th>\n",
              "      <td>4</td>\n",
              "    </tr>\n",
              "  </tbody>\n",
              "</table>\n",
              "<p>6588 rows × 1 columns</p>\n",
              "</div>"
            ],
            "text/plain": [
              "       order_item_quantity\n",
              "17927                    4\n",
              "17928                    1\n",
              "17929                    1\n",
              "17930                    5\n",
              "17931                    3\n",
              "...                    ...\n",
              "24510                    3\n",
              "24511                    1\n",
              "24512                    1\n",
              "24513                    4\n",
              "24514                    4\n",
              "\n",
              "[6588 rows x 1 columns]"
            ]
          },
          "execution_count": 52,
          "metadata": {},
          "output_type": "execute_result"
        }
      ],
      "source": [
        "y_test"
      ]
    },
    {
      "cell_type": "code",
      "execution_count": 53,
      "metadata": {},
      "outputs": [
        {
          "ename": "NameError",
          "evalue": "name 'df_grouped_actual' is not defined",
          "output_type": "error",
          "traceback": [
            "\u001b[0;31m---------------------------------------------------------------------------\u001b[0m",
            "\u001b[0;31mNameError\u001b[0m                                 Traceback (most recent call last)",
            "Cell \u001b[0;32mIn[53], line 1\u001b[0m\n\u001b[0;32m----> 1\u001b[0m df_combined \u001b[38;5;241m=\u001b[39m pd\u001b[38;5;241m.\u001b[39mmerge(\u001b[43mdf_grouped_actual\u001b[49m, df_grouped_predict, on\u001b[38;5;241m=\u001b[39m\u001b[38;5;124m'\u001b[39m\u001b[38;5;124morder_date\u001b[39m\u001b[38;5;124m'\u001b[39m, suffixes\u001b[38;5;241m=\u001b[39m(\u001b[38;5;124m'\u001b[39m\u001b[38;5;124m_actual\u001b[39m\u001b[38;5;124m'\u001b[39m, \u001b[38;5;124m'\u001b[39m\u001b[38;5;124m_predict\u001b[39m\u001b[38;5;124m'\u001b[39m))\n",
            "\u001b[0;31mNameError\u001b[0m: name 'df_grouped_actual' is not defined"
          ]
        }
      ],
      "source": [
        "df_combined = pd.merge(df_grouped_actual, df_grouped_predict, on='order_date', suffixes=('_actual', '_predict'))"
      ]
    },
    {
      "cell_type": "code",
      "execution_count": null,
      "metadata": {},
      "outputs": [
        {
          "ename": "InvalidIndexError",
          "evalue": "(slice(None, None, None), 0)",
          "output_type": "error",
          "traceback": [
            "\u001b[0;31m---------------------------------------------------------------------------\u001b[0m",
            "\u001b[0;31mTypeError\u001b[0m                                 Traceback (most recent call last)",
            "File \u001b[0;32m~/Library/Python/3.9/lib/python/site-packages/pandas/core/indexes/base.py:3802\u001b[0m, in \u001b[0;36mIndex.get_loc\u001b[0;34m(self, key, method, tolerance)\u001b[0m\n\u001b[1;32m   3801\u001b[0m \u001b[38;5;28;01mtry\u001b[39;00m:\n\u001b[0;32m-> 3802\u001b[0m     \u001b[38;5;28;01mreturn\u001b[39;00m \u001b[38;5;28;43mself\u001b[39;49m\u001b[38;5;241;43m.\u001b[39;49m\u001b[43m_engine\u001b[49m\u001b[38;5;241;43m.\u001b[39;49m\u001b[43mget_loc\u001b[49m\u001b[43m(\u001b[49m\u001b[43mcasted_key\u001b[49m\u001b[43m)\u001b[49m\n\u001b[1;32m   3803\u001b[0m \u001b[38;5;28;01mexcept\u001b[39;00m \u001b[38;5;167;01mKeyError\u001b[39;00m \u001b[38;5;28;01mas\u001b[39;00m err:\n",
            "File \u001b[0;32m~/Library/Python/3.9/lib/python/site-packages/pandas/_libs/index.pyx:138\u001b[0m, in \u001b[0;36mpandas._libs.index.IndexEngine.get_loc\u001b[0;34m()\u001b[0m\n",
            "File \u001b[0;32m~/Library/Python/3.9/lib/python/site-packages/pandas/_libs/index.pyx:144\u001b[0m, in \u001b[0;36mpandas._libs.index.IndexEngine.get_loc\u001b[0;34m()\u001b[0m\n",
            "\u001b[0;31mTypeError\u001b[0m: '(slice(None, None, None), 0)' is an invalid key",
            "\nDuring handling of the above exception, another exception occurred:\n",
            "\u001b[0;31mInvalidIndexError\u001b[0m                         Traceback (most recent call last)",
            "Cell \u001b[0;32mIn[267], line 1\u001b[0m\n\u001b[0;32m----> 1\u001b[0m dfx \u001b[38;5;241m=\u001b[39mpd\u001b[38;5;241m.\u001b[39mDataFrame({\u001b[38;5;124m\"\u001b[39m\u001b[38;5;124mActual\u001b[39m\u001b[38;5;124m\"\u001b[39m: \u001b[43my_test\u001b[49m\u001b[43m[\u001b[49m\u001b[43m:\u001b[49m\u001b[43m,\u001b[49m\u001b[43m \u001b[49m\u001b[38;5;241;43m0\u001b[39;49m\u001b[43m]\u001b[49m, \u001b[38;5;124m\"\u001b[39m\u001b[38;5;124mPredict\u001b[39m\u001b[38;5;124m\"\u001b[39m: predictions[:, \u001b[38;5;241m0\u001b[39m]})\n",
            "File \u001b[0;32m~/Library/Python/3.9/lib/python/site-packages/pandas/core/frame.py:3807\u001b[0m, in \u001b[0;36mDataFrame.__getitem__\u001b[0;34m(self, key)\u001b[0m\n\u001b[1;32m   3805\u001b[0m \u001b[38;5;28;01mif\u001b[39;00m \u001b[38;5;28mself\u001b[39m\u001b[38;5;241m.\u001b[39mcolumns\u001b[38;5;241m.\u001b[39mnlevels \u001b[38;5;241m>\u001b[39m \u001b[38;5;241m1\u001b[39m:\n\u001b[1;32m   3806\u001b[0m     \u001b[38;5;28;01mreturn\u001b[39;00m \u001b[38;5;28mself\u001b[39m\u001b[38;5;241m.\u001b[39m_getitem_multilevel(key)\n\u001b[0;32m-> 3807\u001b[0m indexer \u001b[38;5;241m=\u001b[39m \u001b[38;5;28;43mself\u001b[39;49m\u001b[38;5;241;43m.\u001b[39;49m\u001b[43mcolumns\u001b[49m\u001b[38;5;241;43m.\u001b[39;49m\u001b[43mget_loc\u001b[49m\u001b[43m(\u001b[49m\u001b[43mkey\u001b[49m\u001b[43m)\u001b[49m\n\u001b[1;32m   3808\u001b[0m \u001b[38;5;28;01mif\u001b[39;00m is_integer(indexer):\n\u001b[1;32m   3809\u001b[0m     indexer \u001b[38;5;241m=\u001b[39m [indexer]\n",
            "File \u001b[0;32m~/Library/Python/3.9/lib/python/site-packages/pandas/core/indexes/base.py:3809\u001b[0m, in \u001b[0;36mIndex.get_loc\u001b[0;34m(self, key, method, tolerance)\u001b[0m\n\u001b[1;32m   3804\u001b[0m         \u001b[38;5;28;01mraise\u001b[39;00m \u001b[38;5;167;01mKeyError\u001b[39;00m(key) \u001b[38;5;28;01mfrom\u001b[39;00m \u001b[38;5;21;01merr\u001b[39;00m\n\u001b[1;32m   3805\u001b[0m     \u001b[38;5;28;01mexcept\u001b[39;00m \u001b[38;5;167;01mTypeError\u001b[39;00m:\n\u001b[1;32m   3806\u001b[0m         \u001b[38;5;66;03m# If we have a listlike key, _check_indexing_error will raise\u001b[39;00m\n\u001b[1;32m   3807\u001b[0m         \u001b[38;5;66;03m#  InvalidIndexError. Otherwise we fall through and re-raise\u001b[39;00m\n\u001b[1;32m   3808\u001b[0m         \u001b[38;5;66;03m#  the TypeError.\u001b[39;00m\n\u001b[0;32m-> 3809\u001b[0m         \u001b[38;5;28;43mself\u001b[39;49m\u001b[38;5;241;43m.\u001b[39;49m\u001b[43m_check_indexing_error\u001b[49m\u001b[43m(\u001b[49m\u001b[43mkey\u001b[49m\u001b[43m)\u001b[49m\n\u001b[1;32m   3810\u001b[0m         \u001b[38;5;28;01mraise\u001b[39;00m\n\u001b[1;32m   3812\u001b[0m \u001b[38;5;66;03m# GH#42269\u001b[39;00m\n",
            "File \u001b[0;32m~/Library/Python/3.9/lib/python/site-packages/pandas/core/indexes/base.py:5925\u001b[0m, in \u001b[0;36mIndex._check_indexing_error\u001b[0;34m(self, key)\u001b[0m\n\u001b[1;32m   5921\u001b[0m \u001b[38;5;28;01mdef\u001b[39;00m \u001b[38;5;21m_check_indexing_error\u001b[39m(\u001b[38;5;28mself\u001b[39m, key):\n\u001b[1;32m   5922\u001b[0m     \u001b[38;5;28;01mif\u001b[39;00m \u001b[38;5;129;01mnot\u001b[39;00m is_scalar(key):\n\u001b[1;32m   5923\u001b[0m         \u001b[38;5;66;03m# if key is not a scalar, directly raise an error (the code below\u001b[39;00m\n\u001b[1;32m   5924\u001b[0m         \u001b[38;5;66;03m# would convert to numpy arrays and raise later any way) - GH29926\u001b[39;00m\n\u001b[0;32m-> 5925\u001b[0m         \u001b[38;5;28;01mraise\u001b[39;00m InvalidIndexError(key)\n",
            "\u001b[0;31mInvalidIndexError\u001b[0m: (slice(None, None, None), 0)"
          ]
        }
      ],
      "source": [
        "\n",
        "dfx =pd.DataFrame({\"Actual\": y_test[:, 0], \"Predict\": predictions[:, 0]})"
      ]
    },
    {
      "cell_type": "code",
      "execution_count": null,
      "metadata": {},
      "outputs": [],
      "source": [
        "dfx"
      ]
    }
  ],
  "metadata": {
    "colab": {
      "provenance": []
    },
    "kernelspec": {
      "display_name": "Python 3",
      "name": "python3"
    },
    "language_info": {
      "codemirror_mode": {
        "name": "ipython",
        "version": 3
      },
      "file_extension": ".py",
      "mimetype": "text/x-python",
      "name": "python",
      "nbconvert_exporter": "python",
      "pygments_lexer": "ipython3",
      "version": "3.9.6"
    }
  },
  "nbformat": 4,
  "nbformat_minor": 0
}
