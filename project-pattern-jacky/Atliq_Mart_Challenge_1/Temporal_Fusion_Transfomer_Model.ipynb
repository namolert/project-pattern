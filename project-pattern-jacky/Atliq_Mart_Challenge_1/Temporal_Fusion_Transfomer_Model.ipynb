{
 "cells": [
  {
   "cell_type": "code",
   "execution_count": 1,
   "metadata": {},
   "outputs": [],
   "source": [
    "import copy\n",
    "from pathlib import Path\n",
    "import warnings\n",
    "\n",
    "import lightning.pytorch as pl\n",
    "from lightning.pytorch.callbacks import EarlyStopping, LearningRateMonitor\n",
    "from lightning.pytorch.loggers import TensorBoardLogger\n",
    "import numpy as np\n",
    "import pandas as pd\n",
    "import torch\n",
    "\n",
    "from pytorch_forecasting import Baseline, TemporalFusionTransformer, TimeSeriesDataSet\n",
    "from pytorch_forecasting.data import GroupNormalizer\n",
    "from pytorch_forecasting.metrics import MAE, SMAPE, PoissonLoss, QuantileLoss\n",
    "# from pytorch_forecasting.models.temporal_fusion_transformer.tuning import optimize_hyperparameters"
   ]
  },
  {
   "cell_type": "code",
   "execution_count": 2,
   "metadata": {},
   "outputs": [],
   "source": [
    "import pandas as pd\n",
    "import numpy as np\n",
    "import seaborn as sns\n",
    "import matplotlib.pyplot as plt\n",
    "import statsmodels.api as sm\n",
    "import datetime as dt\n",
    "from sklearn.discriminant_analysis import LinearDiscriminantAnalysis,QuadraticDiscriminantAnalysis\n",
    "from sklearn.metrics import confusion_matrix\n",
    "from sklearn.model_selection import train_test_split\n",
    "from sklearn.naive_bayes import GaussianNB\n",
    "from sklearn import preprocessing\n",
    "from sklearn import model_selection\n",
    "from sklearn.tree import DecisionTreeRegressor\n",
    "from sklearn.metrics import roc_auc_score,r2_score,mean_absolute_error,mean_squared_error,accuracy_score,classification_report,confusion_matrix\n",
    "from sklearn.model_selection import train_test_split,cross_val_score, cross_val_predict\n",
    "from sklearn import svm,metrics,tree,preprocessing,linear_model\n",
    "from sklearn.preprocessing import MinMaxScaler,StandardScaler\n",
    "from sklearn.neighbors import KNeighborsClassifier\n",
    "from sklearn.linear_model import LinearRegression,LogisticRegression\n",
    "from sklearn.ensemble import RandomForestRegressor,RandomForestClassifier, GradientBoostingRegressor\n",
    "from sklearn.metrics import accuracy_score,mean_squared_error,recall_score,confusion_matrix,f1_score,roc_curve, auc\n",
    "from plotly.offline import iplot, init_notebook_mode\n",
    "import pickle\n",
    "import warnings\n",
    "warnings.filterwarnings(\"ignore\")\n",
    "import datetime as dt\n",
    "from datetime import datetime\n",
    "import plotly.express as px"
   ]
  },
  {
   "cell_type": "code",
   "execution_count": 3,
   "metadata": {},
   "outputs": [],
   "source": [
    "\n",
    "path = '../../../Atliq Marts Challenge'\n",
    "fact_order_lines_df=pd.read_csv(path+\"/fact_order_lines.csv\")\n",
    "# fact_orders_aggregate_df=pd.read_csv(\"Atliq Marts Challenge/fact_orders_aggregate.csv\")\n",
    "\n",
    "dim_date=pd.read_csv(path+\"/dim_date.csv\")\n",
    "dim_customers=pd.read_csv(path+\"/dim_customers.csv\")\n",
    "dim_products=pd.read_csv(path+\"/dim_products.csv\")\n",
    "dim_targets_orders=pd.read_csv(path+\"/dim_targets_orders.csv\")\n",
    "\n"
   ]
  },
  {
   "cell_type": "code",
   "execution_count": 4,
   "metadata": {},
   "outputs": [],
   "source": [
    "# result =  pd.concat([fact_order_lines_df, fact_orders_aggregate_df], axis=1,join=\"outer\")\n",
    "# result =pd.merge( fact_order_lines_df, fact_orders_aggregate_df, on=[\"order_id\", \"customer_id\"])\n",
    "# esult =pd.merge( fact_order_lines_df, fact_orders_aggregate_df, on=[\"order_id\", \"customer_id\"])\n",
    "result =pd.merge( fact_order_lines_df ,dim_customers , how=\"outer\",on=[\"customer_id\"])\n",
    "result =pd.merge( result ,dim_products , how=\"outer\",on=[\"product_id\"])\n",
    "train_SC =pd.merge( result ,dim_targets_orders , how=\"outer\",on=[\"customer_id\"])\n",
    "train_SC =pd.merge( result ,dim_targets_orders , how=\"outer\",on=[\"customer_id\"])"
   ]
  },
  {
   "cell_type": "code",
   "execution_count": 5,
   "metadata": {},
   "outputs": [],
   "source": [
    "train_SC.columns = [col.lower().replace(' ', '_') for col in train_SC.columns]\n",
    "train_SC.rename(columns=lambda x: x.replace(\"(\", \"\").replace(\")\", \"\"), inplace=True)\n",
    "train_SC.rename(columns=lambda x: x.replace(\"%\", \"_percent\"), inplace=True)"
   ]
  },
  {
   "cell_type": "code",
   "execution_count": 6,
   "metadata": {},
   "outputs": [
    {
     "name": "stdout",
     "output_type": "stream",
     "text": [
      "<class 'pandas.core.frame.DataFrame'>\n",
      "Int64Index: 57096 entries, 0 to 57095\n",
      "Data columns (total 18 columns):\n",
      " #   Column                 Non-Null Count  Dtype \n",
      "---  ------                 --------------  ----- \n",
      " 0   order_id               57096 non-null  object\n",
      " 1   order_placement_date   57096 non-null  object\n",
      " 2   customer_id            57096 non-null  int64 \n",
      " 3   product_id             57096 non-null  int64 \n",
      " 4   order_qty              57096 non-null  int64 \n",
      " 5   agreed_delivery_date   57096 non-null  object\n",
      " 6   actual_delivery_date   57096 non-null  object\n",
      " 7   delivery_qty           57096 non-null  int64 \n",
      " 8   in_full                57096 non-null  int64 \n",
      " 9   on_time                57096 non-null  int64 \n",
      " 10  on_time_in_full        57096 non-null  int64 \n",
      " 11  customer_name          57096 non-null  object\n",
      " 12  city                   57096 non-null  object\n",
      " 13  product_name           57096 non-null  object\n",
      " 14  category               57096 non-null  object\n",
      " 15  ontime_target_percent  57096 non-null  int64 \n",
      " 16  infull_target_percent  57096 non-null  int64 \n",
      " 17  otif_target_percent    57096 non-null  int64 \n",
      "dtypes: int64(10), object(8)\n",
      "memory usage: 8.3+ MB\n"
     ]
    }
   ],
   "source": [
    "train_SC.info()"
   ]
  }
 ],
 "metadata": {
  "kernelspec": {
   "display_name": "Python 3",
   "language": "python",
   "name": "python3"
  },
  "language_info": {
   "codemirror_mode": {
    "name": "ipython",
    "version": 3
   },
   "file_extension": ".py",
   "mimetype": "text/x-python",
   "name": "python",
   "nbconvert_exporter": "python",
   "pygments_lexer": "ipython3",
   "version": "3.9.6"
  }
 },
 "nbformat": 4,
 "nbformat_minor": 2
}
